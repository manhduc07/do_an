{
  "nbformat": 4,
  "nbformat_minor": 0,
  "metadata": {
    "colab": {
      "name": "xay_dung_mo_hinh.ipynb",
      "provenance": [],
      "collapsed_sections": [],
      "authorship_tag": "ABX9TyOVfIki/OAXfO/NjL8EiB+D",
      "include_colab_link": true
    },
    "kernelspec": {
      "name": "python3",
      "display_name": "Python 3"
    },
    "language_info": {
      "name": "python"
    }
  },
  "cells": [
    {
      "cell_type": "markdown",
      "metadata": {
        "id": "view-in-github",
        "colab_type": "text"
      },
      "source": [
        "<a href=\"https://colab.research.google.com/github/manhduc07/do_an/blob/main/xay_dung_mo_hinh.ipynb\" target=\"_parent\"><img src=\"https://colab.research.google.com/assets/colab-badge.svg\" alt=\"Open In Colab\"/></a>"
      ]
    },
    {
      "cell_type": "code",
      "execution_count": null,
      "metadata": {
        "id": "A4XicYZu7LQM"
      },
      "outputs": [],
      "source": [
        "import numpy as np\n",
        "import seaborn as sns\n",
        "import matplotlib.pyplot as plt\n",
        "from pandas.plotting import scatter_matrix\n",
        "sns.set(color_codes=True)\n",
        "import pandas as pd\n",
        "%matplotlib inline\n",
        "from sklearn import datasets"
      ]
    },
    {
      "cell_type": "markdown",
      "source": [
        "## Bài 1: Hãy trình bày cách đọc 1 tập dữ liệu vào bộ nhớ (ví dụ: Iris). Yêu cầu giải thích bằng lời và triển khai bằng code sau đó.\n"
      ],
      "metadata": {
        "id": "0xP5UEuSPGcc"
      }
    },
    {
      "cell_type": "markdown",
      "source": [
        "Cách 1: sử dụng dataset có sẵn trong thư viện"
      ],
      "metadata": {
        "id": "Oxj7oo7RPNhn"
      }
    },
    {
      "cell_type": "code",
      "source": [
        "iris = datasets.load_iris()"
      ],
      "metadata": {
        "id": "i4e7umvhHP0R"
      },
      "execution_count": null,
      "outputs": []
    },
    {
      "cell_type": "markdown",
      "source": [
        "Cách 2: sử dụng pandas để đọc dataset thông qua github"
      ],
      "metadata": {
        "id": "IDA9YRdLPT0Y"
      }
    },
    {
      "cell_type": "code",
      "source": [
        "iris1= pd.read_csv ('https://raw.githubusercontent.com/manhduc07/do_an/main/Iris.csv')\n",
        "iris1= iris1.drop ('Id',axis=1)"
      ],
      "metadata": {
        "id": "cUdWVURXHZ0K"
      },
      "execution_count": null,
      "outputs": []
    },
    {
      "cell_type": "markdown",
      "source": [
        "## Bài 2: Từ tập dữ liệu trong bộ nhớ nêu trên, hãy tiến hành mô tả bằng các thông số thống kê mô tả và hình vẽ tương ứng."
      ],
      "metadata": {
        "id": "dHIVVbeTPah3"
      }
    },
    {
      "cell_type": "markdown",
      "source": [
        "### Mô tả các thông số\n",
        "+ Trước tiên, chúng ta có thể dễ dàng kiểm tra shape của nó bằng cách gọi iris.data.shape và nó sẽ trả lại kích thước của tập dữ liệu với kích thước column."
      ],
      "metadata": {
        "id": "gBZzpOWbPkJ3"
      }
    },
    {
      "cell_type": "code",
      "source": [
        "iris.data.shape"
      ],
      "metadata": {
        "colab": {
          "base_uri": "https://localhost:8080/"
        },
        "id": "NzxBgz80HbTC",
        "outputId": "ce2f74f1-1699-415a-cca8-4f84ecaf94ca"
      },
      "execution_count": null,
      "outputs": [
        {
          "output_type": "execute_result",
          "data": {
            "text/plain": [
              "(150, 4)"
            ]
          },
          "metadata": {},
          "execution_count": 36
        }
      ]
    },
    {
      "cell_type": "markdown",
      "source": [
        "+ Bây giờ chúng ta muốn biết 4 cột là gì. Chúng ta sẽ chạy đoạn code sau :"
      ],
      "metadata": {
        "id": "OMhtKYosPtkX"
      }
    },
    {
      "cell_type": "code",
      "source": [
        "iris.feature_names"
      ],
      "metadata": {
        "colab": {
          "base_uri": "https://localhost:8080/"
        },
        "id": "IFEyMuoQPryl",
        "outputId": "019bbda8-1f32-48f4-dac4-f8cbb675680a"
      },
      "execution_count": null,
      "outputs": [
        {
          "output_type": "execute_result",
          "data": {
            "text/plain": [
              "['sepal length (cm)',\n",
              " 'sepal width (cm)',\n",
              " 'petal length (cm)',\n",
              " 'petal width (cm)']"
            ]
          },
          "metadata": {},
          "execution_count": 37
        }
      ]
    },
    {
      "cell_type": "markdown",
      "source": [
        "sử dụng DESCR để kiểm tra các số liệu tổng hợp"
      ],
      "metadata": {
        "id": "3VINhy4_PzGO"
      }
    },
    {
      "cell_type": "code",
      "source": [
        "print(iris.DESCR)"
      ],
      "metadata": {
        "colab": {
          "base_uri": "https://localhost:8080/"
        },
        "id": "3xfF0lTDPz3f",
        "outputId": "02fe291e-1f9d-4325-ea98-064345ba9aca"
      },
      "execution_count": null,
      "outputs": [
        {
          "output_type": "stream",
          "name": "stdout",
          "text": [
            ".. _iris_dataset:\n",
            "\n",
            "Iris plants dataset\n",
            "--------------------\n",
            "\n",
            "**Data Set Characteristics:**\n",
            "\n",
            "    :Number of Instances: 150 (50 in each of three classes)\n",
            "    :Number of Attributes: 4 numeric, predictive attributes and the class\n",
            "    :Attribute Information:\n",
            "        - sepal length in cm\n",
            "        - sepal width in cm\n",
            "        - petal length in cm\n",
            "        - petal width in cm\n",
            "        - class:\n",
            "                - Iris-Setosa\n",
            "                - Iris-Versicolour\n",
            "                - Iris-Virginica\n",
            "                \n",
            "    :Summary Statistics:\n",
            "\n",
            "    ============== ==== ==== ======= ===== ====================\n",
            "                    Min  Max   Mean    SD   Class Correlation\n",
            "    ============== ==== ==== ======= ===== ====================\n",
            "    sepal length:   4.3  7.9   5.84   0.83    0.7826\n",
            "    sepal width:    2.0  4.4   3.05   0.43   -0.4194\n",
            "    petal length:   1.0  6.9   3.76   1.76    0.9490  (high!)\n",
            "    petal width:    0.1  2.5   1.20   0.76    0.9565  (high!)\n",
            "    ============== ==== ==== ======= ===== ====================\n",
            "\n",
            "    :Missing Attribute Values: None\n",
            "    :Class Distribution: 33.3% for each of 3 classes.\n",
            "    :Creator: R.A. Fisher\n",
            "    :Donor: Michael Marshall (MARSHALL%PLU@io.arc.nasa.gov)\n",
            "    :Date: July, 1988\n",
            "\n",
            "The famous Iris database, first used by Sir R.A. Fisher. The dataset is taken\n",
            "from Fisher's paper. Note that it's the same as in R, but not as in the UCI\n",
            "Machine Learning Repository, which has two wrong data points.\n",
            "\n",
            "This is perhaps the best known database to be found in the\n",
            "pattern recognition literature.  Fisher's paper is a classic in the field and\n",
            "is referenced frequently to this day.  (See Duda & Hart, for example.)  The\n",
            "data set contains 3 classes of 50 instances each, where each class refers to a\n",
            "type of iris plant.  One class is linearly separable from the other 2; the\n",
            "latter are NOT linearly separable from each other.\n",
            "\n",
            ".. topic:: References\n",
            "\n",
            "   - Fisher, R.A. \"The use of multiple measurements in taxonomic problems\"\n",
            "     Annual Eugenics, 7, Part II, 179-188 (1936); also in \"Contributions to\n",
            "     Mathematical Statistics\" (John Wiley, NY, 1950).\n",
            "   - Duda, R.O., & Hart, P.E. (1973) Pattern Classification and Scene Analysis.\n",
            "     (Q327.D83) John Wiley & Sons.  ISBN 0-471-22361-1.  See page 218.\n",
            "   - Dasarathy, B.V. (1980) \"Nosing Around the Neighborhood: A New System\n",
            "     Structure and Classification Rule for Recognition in Partially Exposed\n",
            "     Environments\".  IEEE Transactions on Pattern Analysis and Machine\n",
            "     Intelligence, Vol. PAMI-2, No. 1, 67-71.\n",
            "   - Gates, G.W. (1972) \"The Reduced Nearest Neighbor Rule\".  IEEE Transactions\n",
            "     on Information Theory, May 1972, 431-433.\n",
            "   - See also: 1988 MLC Proceedings, 54-64.  Cheeseman et al\"s AUTOCLASS II\n",
            "     conceptual clustering system finds 3 classes in the data.\n",
            "   - Many, many more ...\n"
          ]
        }
      ]
    },
    {
      "cell_type": "markdown",
      "source": [
        "+ Convert dữ liệu về dạng pandas. Chúng ta có thể kiểm tra 5 dữ liệu đầu tiên"
      ],
      "metadata": {
        "id": "TELE5tk0P2zW"
      }
    },
    {
      "cell_type": "code",
      "source": [
        "iri = pd.DataFrame(iris.data)\n",
        "iri.head()"
      ],
      "metadata": {
        "colab": {
          "base_uri": "https://localhost:8080/",
          "height": 206
        },
        "id": "Zxtli4-hP6g_",
        "outputId": "fe62717c-d151-4d2b-8809-53c6989d6b23"
      },
      "execution_count": null,
      "outputs": [
        {
          "output_type": "execute_result",
          "data": {
            "text/plain": [
              "     0    1    2    3\n",
              "0  5.1  3.5  1.4  0.2\n",
              "1  4.9  3.0  1.4  0.2\n",
              "2  4.7  3.2  1.3  0.2\n",
              "3  4.6  3.1  1.5  0.2\n",
              "4  5.0  3.6  1.4  0.2"
            ],
            "text/html": [
              "\n",
              "  <div id=\"df-af68e2ec-e983-42b5-8574-97a1bbfecefb\">\n",
              "    <div class=\"colab-df-container\">\n",
              "      <div>\n",
              "<style scoped>\n",
              "    .dataframe tbody tr th:only-of-type {\n",
              "        vertical-align: middle;\n",
              "    }\n",
              "\n",
              "    .dataframe tbody tr th {\n",
              "        vertical-align: top;\n",
              "    }\n",
              "\n",
              "    .dataframe thead th {\n",
              "        text-align: right;\n",
              "    }\n",
              "</style>\n",
              "<table border=\"1\" class=\"dataframe\">\n",
              "  <thead>\n",
              "    <tr style=\"text-align: right;\">\n",
              "      <th></th>\n",
              "      <th>0</th>\n",
              "      <th>1</th>\n",
              "      <th>2</th>\n",
              "      <th>3</th>\n",
              "    </tr>\n",
              "  </thead>\n",
              "  <tbody>\n",
              "    <tr>\n",
              "      <th>0</th>\n",
              "      <td>5.1</td>\n",
              "      <td>3.5</td>\n",
              "      <td>1.4</td>\n",
              "      <td>0.2</td>\n",
              "    </tr>\n",
              "    <tr>\n",
              "      <th>1</th>\n",
              "      <td>4.9</td>\n",
              "      <td>3.0</td>\n",
              "      <td>1.4</td>\n",
              "      <td>0.2</td>\n",
              "    </tr>\n",
              "    <tr>\n",
              "      <th>2</th>\n",
              "      <td>4.7</td>\n",
              "      <td>3.2</td>\n",
              "      <td>1.3</td>\n",
              "      <td>0.2</td>\n",
              "    </tr>\n",
              "    <tr>\n",
              "      <th>3</th>\n",
              "      <td>4.6</td>\n",
              "      <td>3.1</td>\n",
              "      <td>1.5</td>\n",
              "      <td>0.2</td>\n",
              "    </tr>\n",
              "    <tr>\n",
              "      <th>4</th>\n",
              "      <td>5.0</td>\n",
              "      <td>3.6</td>\n",
              "      <td>1.4</td>\n",
              "      <td>0.2</td>\n",
              "    </tr>\n",
              "  </tbody>\n",
              "</table>\n",
              "</div>\n",
              "      <button class=\"colab-df-convert\" onclick=\"convertToInteractive('df-af68e2ec-e983-42b5-8574-97a1bbfecefb')\"\n",
              "              title=\"Convert this dataframe to an interactive table.\"\n",
              "              style=\"display:none;\">\n",
              "        \n",
              "  <svg xmlns=\"http://www.w3.org/2000/svg\" height=\"24px\"viewBox=\"0 0 24 24\"\n",
              "       width=\"24px\">\n",
              "    <path d=\"M0 0h24v24H0V0z\" fill=\"none\"/>\n",
              "    <path d=\"M18.56 5.44l.94 2.06.94-2.06 2.06-.94-2.06-.94-.94-2.06-.94 2.06-2.06.94zm-11 1L8.5 8.5l.94-2.06 2.06-.94-2.06-.94L8.5 2.5l-.94 2.06-2.06.94zm10 10l.94 2.06.94-2.06 2.06-.94-2.06-.94-.94-2.06-.94 2.06-2.06.94z\"/><path d=\"M17.41 7.96l-1.37-1.37c-.4-.4-.92-.59-1.43-.59-.52 0-1.04.2-1.43.59L10.3 9.45l-7.72 7.72c-.78.78-.78 2.05 0 2.83L4 21.41c.39.39.9.59 1.41.59.51 0 1.02-.2 1.41-.59l7.78-7.78 2.81-2.81c.8-.78.8-2.07 0-2.86zM5.41 20L4 18.59l7.72-7.72 1.47 1.35L5.41 20z\"/>\n",
              "  </svg>\n",
              "      </button>\n",
              "      \n",
              "  <style>\n",
              "    .colab-df-container {\n",
              "      display:flex;\n",
              "      flex-wrap:wrap;\n",
              "      gap: 12px;\n",
              "    }\n",
              "\n",
              "    .colab-df-convert {\n",
              "      background-color: #E8F0FE;\n",
              "      border: none;\n",
              "      border-radius: 50%;\n",
              "      cursor: pointer;\n",
              "      display: none;\n",
              "      fill: #1967D2;\n",
              "      height: 32px;\n",
              "      padding: 0 0 0 0;\n",
              "      width: 32px;\n",
              "    }\n",
              "\n",
              "    .colab-df-convert:hover {\n",
              "      background-color: #E2EBFA;\n",
              "      box-shadow: 0px 1px 2px rgba(60, 64, 67, 0.3), 0px 1px 3px 1px rgba(60, 64, 67, 0.15);\n",
              "      fill: #174EA6;\n",
              "    }\n",
              "\n",
              "    [theme=dark] .colab-df-convert {\n",
              "      background-color: #3B4455;\n",
              "      fill: #D2E3FC;\n",
              "    }\n",
              "\n",
              "    [theme=dark] .colab-df-convert:hover {\n",
              "      background-color: #434B5C;\n",
              "      box-shadow: 0px 1px 3px 1px rgba(0, 0, 0, 0.15);\n",
              "      filter: drop-shadow(0px 1px 2px rgba(0, 0, 0, 0.3));\n",
              "      fill: #FFFFFF;\n",
              "    }\n",
              "  </style>\n",
              "\n",
              "      <script>\n",
              "        const buttonEl =\n",
              "          document.querySelector('#df-af68e2ec-e983-42b5-8574-97a1bbfecefb button.colab-df-convert');\n",
              "        buttonEl.style.display =\n",
              "          google.colab.kernel.accessAllowed ? 'block' : 'none';\n",
              "\n",
              "        async function convertToInteractive(key) {\n",
              "          const element = document.querySelector('#df-af68e2ec-e983-42b5-8574-97a1bbfecefb');\n",
              "          const dataTable =\n",
              "            await google.colab.kernel.invokeFunction('convertToInteractive',\n",
              "                                                     [key], {});\n",
              "          if (!dataTable) return;\n",
              "\n",
              "          const docLinkHtml = 'Like what you see? Visit the ' +\n",
              "            '<a target=\"_blank\" href=https://colab.research.google.com/notebooks/data_table.ipynb>data table notebook</a>'\n",
              "            + ' to learn more about interactive tables.';\n",
              "          element.innerHTML = '';\n",
              "          dataTable['output_type'] = 'display_data';\n",
              "          await google.colab.output.renderOutput(dataTable, element);\n",
              "          const docLink = document.createElement('div');\n",
              "          docLink.innerHTML = docLinkHtml;\n",
              "          element.appendChild(docLink);\n",
              "        }\n",
              "      </script>\n",
              "    </div>\n",
              "  </div>\n",
              "  "
            ]
          },
          "metadata": {},
          "execution_count": 39
        }
      ]
    },
    {
      "cell_type": "markdown",
      "source": [
        "+ đoạn lệnh sau để show được tên cột"
      ],
      "metadata": {
        "id": "iB6Mhtv8P-Hn"
      }
    },
    {
      "cell_type": "code",
      "source": [
        "iri.columns = iris.feature_names\n",
        "iri.head()"
      ],
      "metadata": {
        "colab": {
          "base_uri": "https://localhost:8080/",
          "height": 206
        },
        "id": "-9wtUZC8P_Fe",
        "outputId": "8977607c-de5c-4350-ecb4-2869e6cca612"
      },
      "execution_count": null,
      "outputs": [
        {
          "output_type": "execute_result",
          "data": {
            "text/plain": [
              "   sepal length (cm)  sepal width (cm)  petal length (cm)  petal width (cm)\n",
              "0                5.1               3.5                1.4               0.2\n",
              "1                4.9               3.0                1.4               0.2\n",
              "2                4.7               3.2                1.3               0.2\n",
              "3                4.6               3.1                1.5               0.2\n",
              "4                5.0               3.6                1.4               0.2"
            ],
            "text/html": [
              "\n",
              "  <div id=\"df-a0feb9ae-4c94-4bc6-8f15-d2f1372036e5\">\n",
              "    <div class=\"colab-df-container\">\n",
              "      <div>\n",
              "<style scoped>\n",
              "    .dataframe tbody tr th:only-of-type {\n",
              "        vertical-align: middle;\n",
              "    }\n",
              "\n",
              "    .dataframe tbody tr th {\n",
              "        vertical-align: top;\n",
              "    }\n",
              "\n",
              "    .dataframe thead th {\n",
              "        text-align: right;\n",
              "    }\n",
              "</style>\n",
              "<table border=\"1\" class=\"dataframe\">\n",
              "  <thead>\n",
              "    <tr style=\"text-align: right;\">\n",
              "      <th></th>\n",
              "      <th>sepal length (cm)</th>\n",
              "      <th>sepal width (cm)</th>\n",
              "      <th>petal length (cm)</th>\n",
              "      <th>petal width (cm)</th>\n",
              "    </tr>\n",
              "  </thead>\n",
              "  <tbody>\n",
              "    <tr>\n",
              "      <th>0</th>\n",
              "      <td>5.1</td>\n",
              "      <td>3.5</td>\n",
              "      <td>1.4</td>\n",
              "      <td>0.2</td>\n",
              "    </tr>\n",
              "    <tr>\n",
              "      <th>1</th>\n",
              "      <td>4.9</td>\n",
              "      <td>3.0</td>\n",
              "      <td>1.4</td>\n",
              "      <td>0.2</td>\n",
              "    </tr>\n",
              "    <tr>\n",
              "      <th>2</th>\n",
              "      <td>4.7</td>\n",
              "      <td>3.2</td>\n",
              "      <td>1.3</td>\n",
              "      <td>0.2</td>\n",
              "    </tr>\n",
              "    <tr>\n",
              "      <th>3</th>\n",
              "      <td>4.6</td>\n",
              "      <td>3.1</td>\n",
              "      <td>1.5</td>\n",
              "      <td>0.2</td>\n",
              "    </tr>\n",
              "    <tr>\n",
              "      <th>4</th>\n",
              "      <td>5.0</td>\n",
              "      <td>3.6</td>\n",
              "      <td>1.4</td>\n",
              "      <td>0.2</td>\n",
              "    </tr>\n",
              "  </tbody>\n",
              "</table>\n",
              "</div>\n",
              "      <button class=\"colab-df-convert\" onclick=\"convertToInteractive('df-a0feb9ae-4c94-4bc6-8f15-d2f1372036e5')\"\n",
              "              title=\"Convert this dataframe to an interactive table.\"\n",
              "              style=\"display:none;\">\n",
              "        \n",
              "  <svg xmlns=\"http://www.w3.org/2000/svg\" height=\"24px\"viewBox=\"0 0 24 24\"\n",
              "       width=\"24px\">\n",
              "    <path d=\"M0 0h24v24H0V0z\" fill=\"none\"/>\n",
              "    <path d=\"M18.56 5.44l.94 2.06.94-2.06 2.06-.94-2.06-.94-.94-2.06-.94 2.06-2.06.94zm-11 1L8.5 8.5l.94-2.06 2.06-.94-2.06-.94L8.5 2.5l-.94 2.06-2.06.94zm10 10l.94 2.06.94-2.06 2.06-.94-2.06-.94-.94-2.06-.94 2.06-2.06.94z\"/><path d=\"M17.41 7.96l-1.37-1.37c-.4-.4-.92-.59-1.43-.59-.52 0-1.04.2-1.43.59L10.3 9.45l-7.72 7.72c-.78.78-.78 2.05 0 2.83L4 21.41c.39.39.9.59 1.41.59.51 0 1.02-.2 1.41-.59l7.78-7.78 2.81-2.81c.8-.78.8-2.07 0-2.86zM5.41 20L4 18.59l7.72-7.72 1.47 1.35L5.41 20z\"/>\n",
              "  </svg>\n",
              "      </button>\n",
              "      \n",
              "  <style>\n",
              "    .colab-df-container {\n",
              "      display:flex;\n",
              "      flex-wrap:wrap;\n",
              "      gap: 12px;\n",
              "    }\n",
              "\n",
              "    .colab-df-convert {\n",
              "      background-color: #E8F0FE;\n",
              "      border: none;\n",
              "      border-radius: 50%;\n",
              "      cursor: pointer;\n",
              "      display: none;\n",
              "      fill: #1967D2;\n",
              "      height: 32px;\n",
              "      padding: 0 0 0 0;\n",
              "      width: 32px;\n",
              "    }\n",
              "\n",
              "    .colab-df-convert:hover {\n",
              "      background-color: #E2EBFA;\n",
              "      box-shadow: 0px 1px 2px rgba(60, 64, 67, 0.3), 0px 1px 3px 1px rgba(60, 64, 67, 0.15);\n",
              "      fill: #174EA6;\n",
              "    }\n",
              "\n",
              "    [theme=dark] .colab-df-convert {\n",
              "      background-color: #3B4455;\n",
              "      fill: #D2E3FC;\n",
              "    }\n",
              "\n",
              "    [theme=dark] .colab-df-convert:hover {\n",
              "      background-color: #434B5C;\n",
              "      box-shadow: 0px 1px 3px 1px rgba(0, 0, 0, 0.15);\n",
              "      filter: drop-shadow(0px 1px 2px rgba(0, 0, 0, 0.3));\n",
              "      fill: #FFFFFF;\n",
              "    }\n",
              "  </style>\n",
              "\n",
              "      <script>\n",
              "        const buttonEl =\n",
              "          document.querySelector('#df-a0feb9ae-4c94-4bc6-8f15-d2f1372036e5 button.colab-df-convert');\n",
              "        buttonEl.style.display =\n",
              "          google.colab.kernel.accessAllowed ? 'block' : 'none';\n",
              "\n",
              "        async function convertToInteractive(key) {\n",
              "          const element = document.querySelector('#df-a0feb9ae-4c94-4bc6-8f15-d2f1372036e5');\n",
              "          const dataTable =\n",
              "            await google.colab.kernel.invokeFunction('convertToInteractive',\n",
              "                                                     [key], {});\n",
              "          if (!dataTable) return;\n",
              "\n",
              "          const docLinkHtml = 'Like what you see? Visit the ' +\n",
              "            '<a target=\"_blank\" href=https://colab.research.google.com/notebooks/data_table.ipynb>data table notebook</a>'\n",
              "            + ' to learn more about interactive tables.';\n",
              "          element.innerHTML = '';\n",
              "          dataTable['output_type'] = 'display_data';\n",
              "          await google.colab.output.renderOutput(dataTable, element);\n",
              "          const docLink = document.createElement('div');\n",
              "          docLink.innerHTML = docLinkHtml;\n",
              "          element.appendChild(docLink);\n",
              "        }\n",
              "      </script>\n",
              "    </div>\n",
              "  </div>\n",
              "  "
            ]
          },
          "metadata": {},
          "execution_count": 40
        }
      ]
    },
    {
      "cell_type": "markdown",
      "source": [
        "+ Đọc các thống kê tổng hợp xem sơ lược qua về dataset như số lượng, giá trị trung bình, min, max..."
      ],
      "metadata": {
        "id": "JN389roKQFMG"
      }
    },
    {
      "cell_type": "code",
      "source": [
        "iri.describe()"
      ],
      "metadata": {
        "colab": {
          "base_uri": "https://localhost:8080/",
          "height": 300
        },
        "id": "Cm5yAMrPQF_4",
        "outputId": "148814ab-d280-4142-839f-5476e097647a"
      },
      "execution_count": null,
      "outputs": [
        {
          "output_type": "execute_result",
          "data": {
            "text/plain": [
              "       sepal length (cm)  sepal width (cm)  petal length (cm)  \\\n",
              "count         150.000000        150.000000         150.000000   \n",
              "mean            5.843333          3.057333           3.758000   \n",
              "std             0.828066          0.435866           1.765298   \n",
              "min             4.300000          2.000000           1.000000   \n",
              "25%             5.100000          2.800000           1.600000   \n",
              "50%             5.800000          3.000000           4.350000   \n",
              "75%             6.400000          3.300000           5.100000   \n",
              "max             7.900000          4.400000           6.900000   \n",
              "\n",
              "       petal width (cm)  \n",
              "count        150.000000  \n",
              "mean           1.199333  \n",
              "std            0.762238  \n",
              "min            0.100000  \n",
              "25%            0.300000  \n",
              "50%            1.300000  \n",
              "75%            1.800000  \n",
              "max            2.500000  "
            ],
            "text/html": [
              "\n",
              "  <div id=\"df-a7793ed0-0c53-4d14-a045-95d29cd08b9e\">\n",
              "    <div class=\"colab-df-container\">\n",
              "      <div>\n",
              "<style scoped>\n",
              "    .dataframe tbody tr th:only-of-type {\n",
              "        vertical-align: middle;\n",
              "    }\n",
              "\n",
              "    .dataframe tbody tr th {\n",
              "        vertical-align: top;\n",
              "    }\n",
              "\n",
              "    .dataframe thead th {\n",
              "        text-align: right;\n",
              "    }\n",
              "</style>\n",
              "<table border=\"1\" class=\"dataframe\">\n",
              "  <thead>\n",
              "    <tr style=\"text-align: right;\">\n",
              "      <th></th>\n",
              "      <th>sepal length (cm)</th>\n",
              "      <th>sepal width (cm)</th>\n",
              "      <th>petal length (cm)</th>\n",
              "      <th>petal width (cm)</th>\n",
              "    </tr>\n",
              "  </thead>\n",
              "  <tbody>\n",
              "    <tr>\n",
              "      <th>count</th>\n",
              "      <td>150.000000</td>\n",
              "      <td>150.000000</td>\n",
              "      <td>150.000000</td>\n",
              "      <td>150.000000</td>\n",
              "    </tr>\n",
              "    <tr>\n",
              "      <th>mean</th>\n",
              "      <td>5.843333</td>\n",
              "      <td>3.057333</td>\n",
              "      <td>3.758000</td>\n",
              "      <td>1.199333</td>\n",
              "    </tr>\n",
              "    <tr>\n",
              "      <th>std</th>\n",
              "      <td>0.828066</td>\n",
              "      <td>0.435866</td>\n",
              "      <td>1.765298</td>\n",
              "      <td>0.762238</td>\n",
              "    </tr>\n",
              "    <tr>\n",
              "      <th>min</th>\n",
              "      <td>4.300000</td>\n",
              "      <td>2.000000</td>\n",
              "      <td>1.000000</td>\n",
              "      <td>0.100000</td>\n",
              "    </tr>\n",
              "    <tr>\n",
              "      <th>25%</th>\n",
              "      <td>5.100000</td>\n",
              "      <td>2.800000</td>\n",
              "      <td>1.600000</td>\n",
              "      <td>0.300000</td>\n",
              "    </tr>\n",
              "    <tr>\n",
              "      <th>50%</th>\n",
              "      <td>5.800000</td>\n",
              "      <td>3.000000</td>\n",
              "      <td>4.350000</td>\n",
              "      <td>1.300000</td>\n",
              "    </tr>\n",
              "    <tr>\n",
              "      <th>75%</th>\n",
              "      <td>6.400000</td>\n",
              "      <td>3.300000</td>\n",
              "      <td>5.100000</td>\n",
              "      <td>1.800000</td>\n",
              "    </tr>\n",
              "    <tr>\n",
              "      <th>max</th>\n",
              "      <td>7.900000</td>\n",
              "      <td>4.400000</td>\n",
              "      <td>6.900000</td>\n",
              "      <td>2.500000</td>\n",
              "    </tr>\n",
              "  </tbody>\n",
              "</table>\n",
              "</div>\n",
              "      <button class=\"colab-df-convert\" onclick=\"convertToInteractive('df-a7793ed0-0c53-4d14-a045-95d29cd08b9e')\"\n",
              "              title=\"Convert this dataframe to an interactive table.\"\n",
              "              style=\"display:none;\">\n",
              "        \n",
              "  <svg xmlns=\"http://www.w3.org/2000/svg\" height=\"24px\"viewBox=\"0 0 24 24\"\n",
              "       width=\"24px\">\n",
              "    <path d=\"M0 0h24v24H0V0z\" fill=\"none\"/>\n",
              "    <path d=\"M18.56 5.44l.94 2.06.94-2.06 2.06-.94-2.06-.94-.94-2.06-.94 2.06-2.06.94zm-11 1L8.5 8.5l.94-2.06 2.06-.94-2.06-.94L8.5 2.5l-.94 2.06-2.06.94zm10 10l.94 2.06.94-2.06 2.06-.94-2.06-.94-.94-2.06-.94 2.06-2.06.94z\"/><path d=\"M17.41 7.96l-1.37-1.37c-.4-.4-.92-.59-1.43-.59-.52 0-1.04.2-1.43.59L10.3 9.45l-7.72 7.72c-.78.78-.78 2.05 0 2.83L4 21.41c.39.39.9.59 1.41.59.51 0 1.02-.2 1.41-.59l7.78-7.78 2.81-2.81c.8-.78.8-2.07 0-2.86zM5.41 20L4 18.59l7.72-7.72 1.47 1.35L5.41 20z\"/>\n",
              "  </svg>\n",
              "      </button>\n",
              "      \n",
              "  <style>\n",
              "    .colab-df-container {\n",
              "      display:flex;\n",
              "      flex-wrap:wrap;\n",
              "      gap: 12px;\n",
              "    }\n",
              "\n",
              "    .colab-df-convert {\n",
              "      background-color: #E8F0FE;\n",
              "      border: none;\n",
              "      border-radius: 50%;\n",
              "      cursor: pointer;\n",
              "      display: none;\n",
              "      fill: #1967D2;\n",
              "      height: 32px;\n",
              "      padding: 0 0 0 0;\n",
              "      width: 32px;\n",
              "    }\n",
              "\n",
              "    .colab-df-convert:hover {\n",
              "      background-color: #E2EBFA;\n",
              "      box-shadow: 0px 1px 2px rgba(60, 64, 67, 0.3), 0px 1px 3px 1px rgba(60, 64, 67, 0.15);\n",
              "      fill: #174EA6;\n",
              "    }\n",
              "\n",
              "    [theme=dark] .colab-df-convert {\n",
              "      background-color: #3B4455;\n",
              "      fill: #D2E3FC;\n",
              "    }\n",
              "\n",
              "    [theme=dark] .colab-df-convert:hover {\n",
              "      background-color: #434B5C;\n",
              "      box-shadow: 0px 1px 3px 1px rgba(0, 0, 0, 0.15);\n",
              "      filter: drop-shadow(0px 1px 2px rgba(0, 0, 0, 0.3));\n",
              "      fill: #FFFFFF;\n",
              "    }\n",
              "  </style>\n",
              "\n",
              "      <script>\n",
              "        const buttonEl =\n",
              "          document.querySelector('#df-a7793ed0-0c53-4d14-a045-95d29cd08b9e button.colab-df-convert');\n",
              "        buttonEl.style.display =\n",
              "          google.colab.kernel.accessAllowed ? 'block' : 'none';\n",
              "\n",
              "        async function convertToInteractive(key) {\n",
              "          const element = document.querySelector('#df-a7793ed0-0c53-4d14-a045-95d29cd08b9e');\n",
              "          const dataTable =\n",
              "            await google.colab.kernel.invokeFunction('convertToInteractive',\n",
              "                                                     [key], {});\n",
              "          if (!dataTable) return;\n",
              "\n",
              "          const docLinkHtml = 'Like what you see? Visit the ' +\n",
              "            '<a target=\"_blank\" href=https://colab.research.google.com/notebooks/data_table.ipynb>data table notebook</a>'\n",
              "            + ' to learn more about interactive tables.';\n",
              "          element.innerHTML = '';\n",
              "          dataTable['output_type'] = 'display_data';\n",
              "          await google.colab.output.renderOutput(dataTable, element);\n",
              "          const docLink = document.createElement('div');\n",
              "          docLink.innerHTML = docLinkHtml;\n",
              "          element.appendChild(docLink);\n",
              "        }\n",
              "      </script>\n",
              "    </div>\n",
              "  </div>\n",
              "  "
            ]
          },
          "metadata": {},
          "execution_count": 41
        }
      ]
    },
    {
      "cell_type": "markdown",
      "source": [
        "+ Tương quan giữa các cột"
      ],
      "metadata": {
        "id": "nsVc2WYNQKDv"
      }
    },
    {
      "cell_type": "code",
      "source": [
        "iri.corr()"
      ],
      "metadata": {
        "colab": {
          "base_uri": "https://localhost:8080/",
          "height": 174
        },
        "id": "suVKnguFQM3v",
        "outputId": "9890512b-0442-441c-9e8b-8ac69af0465a"
      },
      "execution_count": null,
      "outputs": [
        {
          "output_type": "execute_result",
          "data": {
            "text/plain": [
              "                   sepal length (cm)  sepal width (cm)  petal length (cm)  \\\n",
              "sepal length (cm)           1.000000         -0.117570           0.871754   \n",
              "sepal width (cm)           -0.117570          1.000000          -0.428440   \n",
              "petal length (cm)           0.871754         -0.428440           1.000000   \n",
              "petal width (cm)            0.817941         -0.366126           0.962865   \n",
              "\n",
              "                   petal width (cm)  \n",
              "sepal length (cm)          0.817941  \n",
              "sepal width (cm)          -0.366126  \n",
              "petal length (cm)          0.962865  \n",
              "petal width (cm)           1.000000  "
            ],
            "text/html": [
              "\n",
              "  <div id=\"df-b79c3706-fd1d-4e29-baf1-38d0f214b152\">\n",
              "    <div class=\"colab-df-container\">\n",
              "      <div>\n",
              "<style scoped>\n",
              "    .dataframe tbody tr th:only-of-type {\n",
              "        vertical-align: middle;\n",
              "    }\n",
              "\n",
              "    .dataframe tbody tr th {\n",
              "        vertical-align: top;\n",
              "    }\n",
              "\n",
              "    .dataframe thead th {\n",
              "        text-align: right;\n",
              "    }\n",
              "</style>\n",
              "<table border=\"1\" class=\"dataframe\">\n",
              "  <thead>\n",
              "    <tr style=\"text-align: right;\">\n",
              "      <th></th>\n",
              "      <th>sepal length (cm)</th>\n",
              "      <th>sepal width (cm)</th>\n",
              "      <th>petal length (cm)</th>\n",
              "      <th>petal width (cm)</th>\n",
              "    </tr>\n",
              "  </thead>\n",
              "  <tbody>\n",
              "    <tr>\n",
              "      <th>sepal length (cm)</th>\n",
              "      <td>1.000000</td>\n",
              "      <td>-0.117570</td>\n",
              "      <td>0.871754</td>\n",
              "      <td>0.817941</td>\n",
              "    </tr>\n",
              "    <tr>\n",
              "      <th>sepal width (cm)</th>\n",
              "      <td>-0.117570</td>\n",
              "      <td>1.000000</td>\n",
              "      <td>-0.428440</td>\n",
              "      <td>-0.366126</td>\n",
              "    </tr>\n",
              "    <tr>\n",
              "      <th>petal length (cm)</th>\n",
              "      <td>0.871754</td>\n",
              "      <td>-0.428440</td>\n",
              "      <td>1.000000</td>\n",
              "      <td>0.962865</td>\n",
              "    </tr>\n",
              "    <tr>\n",
              "      <th>petal width (cm)</th>\n",
              "      <td>0.817941</td>\n",
              "      <td>-0.366126</td>\n",
              "      <td>0.962865</td>\n",
              "      <td>1.000000</td>\n",
              "    </tr>\n",
              "  </tbody>\n",
              "</table>\n",
              "</div>\n",
              "      <button class=\"colab-df-convert\" onclick=\"convertToInteractive('df-b79c3706-fd1d-4e29-baf1-38d0f214b152')\"\n",
              "              title=\"Convert this dataframe to an interactive table.\"\n",
              "              style=\"display:none;\">\n",
              "        \n",
              "  <svg xmlns=\"http://www.w3.org/2000/svg\" height=\"24px\"viewBox=\"0 0 24 24\"\n",
              "       width=\"24px\">\n",
              "    <path d=\"M0 0h24v24H0V0z\" fill=\"none\"/>\n",
              "    <path d=\"M18.56 5.44l.94 2.06.94-2.06 2.06-.94-2.06-.94-.94-2.06-.94 2.06-2.06.94zm-11 1L8.5 8.5l.94-2.06 2.06-.94-2.06-.94L8.5 2.5l-.94 2.06-2.06.94zm10 10l.94 2.06.94-2.06 2.06-.94-2.06-.94-.94-2.06-.94 2.06-2.06.94z\"/><path d=\"M17.41 7.96l-1.37-1.37c-.4-.4-.92-.59-1.43-.59-.52 0-1.04.2-1.43.59L10.3 9.45l-7.72 7.72c-.78.78-.78 2.05 0 2.83L4 21.41c.39.39.9.59 1.41.59.51 0 1.02-.2 1.41-.59l7.78-7.78 2.81-2.81c.8-.78.8-2.07 0-2.86zM5.41 20L4 18.59l7.72-7.72 1.47 1.35L5.41 20z\"/>\n",
              "  </svg>\n",
              "      </button>\n",
              "      \n",
              "  <style>\n",
              "    .colab-df-container {\n",
              "      display:flex;\n",
              "      flex-wrap:wrap;\n",
              "      gap: 12px;\n",
              "    }\n",
              "\n",
              "    .colab-df-convert {\n",
              "      background-color: #E8F0FE;\n",
              "      border: none;\n",
              "      border-radius: 50%;\n",
              "      cursor: pointer;\n",
              "      display: none;\n",
              "      fill: #1967D2;\n",
              "      height: 32px;\n",
              "      padding: 0 0 0 0;\n",
              "      width: 32px;\n",
              "    }\n",
              "\n",
              "    .colab-df-convert:hover {\n",
              "      background-color: #E2EBFA;\n",
              "      box-shadow: 0px 1px 2px rgba(60, 64, 67, 0.3), 0px 1px 3px 1px rgba(60, 64, 67, 0.15);\n",
              "      fill: #174EA6;\n",
              "    }\n",
              "\n",
              "    [theme=dark] .colab-df-convert {\n",
              "      background-color: #3B4455;\n",
              "      fill: #D2E3FC;\n",
              "    }\n",
              "\n",
              "    [theme=dark] .colab-df-convert:hover {\n",
              "      background-color: #434B5C;\n",
              "      box-shadow: 0px 1px 3px 1px rgba(0, 0, 0, 0.15);\n",
              "      filter: drop-shadow(0px 1px 2px rgba(0, 0, 0, 0.3));\n",
              "      fill: #FFFFFF;\n",
              "    }\n",
              "  </style>\n",
              "\n",
              "      <script>\n",
              "        const buttonEl =\n",
              "          document.querySelector('#df-b79c3706-fd1d-4e29-baf1-38d0f214b152 button.colab-df-convert');\n",
              "        buttonEl.style.display =\n",
              "          google.colab.kernel.accessAllowed ? 'block' : 'none';\n",
              "\n",
              "        async function convertToInteractive(key) {\n",
              "          const element = document.querySelector('#df-b79c3706-fd1d-4e29-baf1-38d0f214b152');\n",
              "          const dataTable =\n",
              "            await google.colab.kernel.invokeFunction('convertToInteractive',\n",
              "                                                     [key], {});\n",
              "          if (!dataTable) return;\n",
              "\n",
              "          const docLinkHtml = 'Like what you see? Visit the ' +\n",
              "            '<a target=\"_blank\" href=https://colab.research.google.com/notebooks/data_table.ipynb>data table notebook</a>'\n",
              "            + ' to learn more about interactive tables.';\n",
              "          element.innerHTML = '';\n",
              "          dataTable['output_type'] = 'display_data';\n",
              "          await google.colab.output.renderOutput(dataTable, element);\n",
              "          const docLink = document.createElement('div');\n",
              "          docLink.innerHTML = docLinkHtml;\n",
              "          element.appendChild(docLink);\n",
              "        }\n",
              "      </script>\n",
              "    </div>\n",
              "  </div>\n",
              "  "
            ]
          },
          "metadata": {},
          "execution_count": 42
        }
      ]
    },
    {
      "cell_type": "markdown",
      "source": [
        " ### Vẽ hình trực quan hóa dữ liệu"
      ],
      "metadata": {
        "id": "MyL0GksHQONI"
      }
    },
    {
      "cell_type": "markdown",
      "source": [
        "+ histogram cho mỗi biến đầu vào"
      ],
      "metadata": {
        "id": "sKCpUSdGQQJm"
      }
    },
    {
      "cell_type": "code",
      "source": [
        "iri.hist(color='pink', edgecolor='black', linewidth=1.2, alpha=0.4)\n",
        "fig=plt.gcf()\n",
        "fig.set_size_inches(10,5)"
      ],
      "metadata": {
        "colab": {
          "base_uri": "https://localhost:8080/",
          "height": 338
        },
        "id": "9eGeS2bjQR1v",
        "outputId": "c14205a6-461d-4660-8791-485dd5f2a341"
      },
      "execution_count": null,
      "outputs": [
        {
          "output_type": "display_data",
          "data": {
            "text/plain": [
              "<Figure size 720x360 with 4 Axes>"
            ],
            "image/png": "[encoded data removed]"
          },
          "metadata": {
            "needs_background": "light"
          }
        }
      ]
    },
    {
      "cell_type": "markdown",
      "source": [
        "+ box and whisker plots cho các biến đầu vào"
      ],
      "metadata": {
        "id": "1H4IvIkTQVv_"
      }
    },
    {
      "cell_type": "code",
      "source": [
        "iri.plot(kind='box', subplots=True, layout=(2,2), sharex=False, sharey=False)\n",
        "plt.show()"
      ],
      "metadata": {
        "colab": {
          "base_uri": "https://localhost:8080/",
          "height": 270
        },
        "id": "NkU1BqPeQWeh",
        "outputId": "edf2c770-f560-424c-8909-099b87c6fc5c"
      },
      "execution_count": null,
      "outputs": [
        {
          "output_type": "display_data",
          "data": {
            "text/plain": [
              "<Figure size 432x288 with 4 Axes>"
            ],
            "image/png": "[encoded data removed]"
          },
          "metadata": {
            "needs_background": "light"
          }
        }
      ]
    },
    {
      "cell_type": "markdown",
      "source": [
        "Ta có thể thấy ở senpal width có các outline nên phải xử lý \n"
      ],
      "metadata": {
        "id": "vKv1ARRFwhwM"
      }
    },
    {
      "cell_type": "code",
      "source": [
        "iri = iri.drop('sepal width (cm)',axis=1)\n",
        "iri.head()"
      ],
      "metadata": {
        "colab": {
          "base_uri": "https://localhost:8080/",
          "height": 206
        },
        "id": "3JB20aXTxTf1",
        "outputId": "4ba5cb82-22da-4a4b-9214-ae7280c81425"
      },
      "execution_count": null,
      "outputs": [
        {
          "output_type": "execute_result",
          "data": {
            "text/plain": [
              "   sepal length (cm)  petal length (cm)  petal width (cm)\n",
              "0                5.1                1.4               0.2\n",
              "1                4.9                1.4               0.2\n",
              "2                4.7                1.3               0.2\n",
              "3                4.6                1.5               0.2\n",
              "4                5.0                1.4               0.2"
            ],
            "text/html": [
              "\n",
              "  <div id=\"df-49dc3ee3-efff-436a-b098-27eb77e0aa89\">\n",
              "    <div class=\"colab-df-container\">\n",
              "      <div>\n",
              "<style scoped>\n",
              "    .dataframe tbody tr th:only-of-type {\n",
              "        vertical-align: middle;\n",
              "    }\n",
              "\n",
              "    .dataframe tbody tr th {\n",
              "        vertical-align: top;\n",
              "    }\n",
              "\n",
              "    .dataframe thead th {\n",
              "        text-align: right;\n",
              "    }\n",
              "</style>\n",
              "<table border=\"1\" class=\"dataframe\">\n",
              "  <thead>\n",
              "    <tr style=\"text-align: right;\">\n",
              "      <th></th>\n",
              "      <th>sepal length (cm)</th>\n",
              "      <th>petal length (cm)</th>\n",
              "      <th>petal width (cm)</th>\n",
              "    </tr>\n",
              "  </thead>\n",
              "  <tbody>\n",
              "    <tr>\n",
              "      <th>0</th>\n",
              "      <td>5.1</td>\n",
              "      <td>1.4</td>\n",
              "      <td>0.2</td>\n",
              "    </tr>\n",
              "    <tr>\n",
              "      <th>1</th>\n",
              "      <td>4.9</td>\n",
              "      <td>1.4</td>\n",
              "      <td>0.2</td>\n",
              "    </tr>\n",
              "    <tr>\n",
              "      <th>2</th>\n",
              "      <td>4.7</td>\n",
              "      <td>1.3</td>\n",
              "      <td>0.2</td>\n",
              "    </tr>\n",
              "    <tr>\n",
              "      <th>3</th>\n",
              "      <td>4.6</td>\n",
              "      <td>1.5</td>\n",
              "      <td>0.2</td>\n",
              "    </tr>\n",
              "    <tr>\n",
              "      <th>4</th>\n",
              "      <td>5.0</td>\n",
              "      <td>1.4</td>\n",
              "      <td>0.2</td>\n",
              "    </tr>\n",
              "  </tbody>\n",
              "</table>\n",
              "</div>\n",
              "      <button class=\"colab-df-convert\" onclick=\"convertToInteractive('df-49dc3ee3-efff-436a-b098-27eb77e0aa89')\"\n",
              "              title=\"Convert this dataframe to an interactive table.\"\n",
              "              style=\"display:none;\">\n",
              "        \n",
              "  <svg xmlns=\"http://www.w3.org/2000/svg\" height=\"24px\"viewBox=\"0 0 24 24\"\n",
              "       width=\"24px\">\n",
              "    <path d=\"M0 0h24v24H0V0z\" fill=\"none\"/>\n",
              "    <path d=\"M18.56 5.44l.94 2.06.94-2.06 2.06-.94-2.06-.94-.94-2.06-.94 2.06-2.06.94zm-11 1L8.5 8.5l.94-2.06 2.06-.94-2.06-.94L8.5 2.5l-.94 2.06-2.06.94zm10 10l.94 2.06.94-2.06 2.06-.94-2.06-.94-.94-2.06-.94 2.06-2.06.94z\"/><path d=\"M17.41 7.96l-1.37-1.37c-.4-.4-.92-.59-1.43-.59-.52 0-1.04.2-1.43.59L10.3 9.45l-7.72 7.72c-.78.78-.78 2.05 0 2.83L4 21.41c.39.39.9.59 1.41.59.51 0 1.02-.2 1.41-.59l7.78-7.78 2.81-2.81c.8-.78.8-2.07 0-2.86zM5.41 20L4 18.59l7.72-7.72 1.47 1.35L5.41 20z\"/>\n",
              "  </svg>\n",
              "      </button>\n",
              "      \n",
              "  <style>\n",
              "    .colab-df-container {\n",
              "      display:flex;\n",
              "      flex-wrap:wrap;\n",
              "      gap: 12px;\n",
              "    }\n",
              "\n",
              "    .colab-df-convert {\n",
              "      background-color: #E8F0FE;\n",
              "      border: none;\n",
              "      border-radius: 50%;\n",
              "      cursor: pointer;\n",
              "      display: none;\n",
              "      fill: #1967D2;\n",
              "      height: 32px;\n",
              "      padding: 0 0 0 0;\n",
              "      width: 32px;\n",
              "    }\n",
              "\n",
              "    .colab-df-convert:hover {\n",
              "      background-color: #E2EBFA;\n",
              "      box-shadow: 0px 1px 2px rgba(60, 64, 67, 0.3), 0px 1px 3px 1px rgba(60, 64, 67, 0.15);\n",
              "      fill: #174EA6;\n",
              "    }\n",
              "\n",
              "    [theme=dark] .colab-df-convert {\n",
              "      background-color: #3B4455;\n",
              "      fill: #D2E3FC;\n",
              "    }\n",
              "\n",
              "    [theme=dark] .colab-df-convert:hover {\n",
              "      background-color: #434B5C;\n",
              "      box-shadow: 0px 1px 3px 1px rgba(0, 0, 0, 0.15);\n",
              "      filter: drop-shadow(0px 1px 2px rgba(0, 0, 0, 0.3));\n",
              "      fill: #FFFFFF;\n",
              "    }\n",
              "  </style>\n",
              "\n",
              "      <script>\n",
              "        const buttonEl =\n",
              "          document.querySelector('#df-49dc3ee3-efff-436a-b098-27eb77e0aa89 button.colab-df-convert');\n",
              "        buttonEl.style.display =\n",
              "          google.colab.kernel.accessAllowed ? 'block' : 'none';\n",
              "\n",
              "        async function convertToInteractive(key) {\n",
              "          const element = document.querySelector('#df-49dc3ee3-efff-436a-b098-27eb77e0aa89');\n",
              "          const dataTable =\n",
              "            await google.colab.kernel.invokeFunction('convertToInteractive',\n",
              "                                                     [key], {});\n",
              "          if (!dataTable) return;\n",
              "\n",
              "          const docLinkHtml = 'Like what you see? Visit the ' +\n",
              "            '<a target=\"_blank\" href=https://colab.research.google.com/notebooks/data_table.ipynb>data table notebook</a>'\n",
              "            + ' to learn more about interactive tables.';\n",
              "          element.innerHTML = '';\n",
              "          dataTable['output_type'] = 'display_data';\n",
              "          await google.colab.output.renderOutput(dataTable, element);\n",
              "          const docLink = document.createElement('div');\n",
              "          docLink.innerHTML = docLinkHtml;\n",
              "          element.appendChild(docLink);\n",
              "        }\n",
              "      </script>\n",
              "    </div>\n",
              "  </div>\n",
              "  "
            ]
          },
          "metadata": {},
          "execution_count": 45
        }
      ]
    },
    {
      "cell_type": "code",
      "source": [
        "iri.plot(kind='box', subplots=True, layout=(2,2), sharex=False, sharey=False)\n",
        "plt.show()"
      ],
      "metadata": {
        "colab": {
          "base_uri": "https://localhost:8080/",
          "height": 270
        },
        "id": "2oVFzgvsxtac",
        "outputId": "484fe43c-c3c5-4679-a272-fce773529a07"
      },
      "execution_count": null,
      "outputs": [
        {
          "output_type": "display_data",
          "data": {
            "text/plain": [
              "<Figure size 432x288 with 4 Axes>"
            ],
            "image/png": "[encoded data removed]"
          },
          "metadata": {
            "needs_background": "light"
          }
        }
      ]
    },
    {
      "cell_type": "markdown",
      "source": [
        "+ xem sự tương tác giữa các biến"
      ],
      "metadata": {
        "id": "iSQGGFK9QaoH"
      }
    },
    {
      "cell_type": "code",
      "source": [
        "scatter_matrix(iri)\n",
        "plt.show()"
      ],
      "metadata": {
        "colab": {
          "base_uri": "https://localhost:8080/",
          "height": 304
        },
        "id": "bEc89-3_QbTB",
        "outputId": "93757b98-84ef-4a79-849f-e1bb6cbe1882"
      },
      "execution_count": null,
      "outputs": [
        {
          "output_type": "display_data",
          "data": {
            "text/plain": [
              "<Figure size 432x288 with 9 Axes>"
            ],
            "image/png": "[encoded data removed]"
          },
          "metadata": {
            "needs_background": "light"
          }
        }
      ]
    },
    {
      "cell_type": "markdown",
      "source": [
        "+ mối quan hệ giữa chiều dài và chiều rộng của cánh hoa"
      ],
      "metadata": {
        "id": "yMdY6svxQd4X"
      }
    },
    {
      "cell_type": "code",
      "source": [
        "fig = iris1[iris1.Species=='Iris-setosa'].plot.scatter(x='PetalLengthCm',y='PetalWidthCm',color='red', label='Iris-Setosa')\n",
        "iris1[iris1.Species=='Iris-versicolor'].plot.scatter(x='PetalLengthCm',y='PetalWidthCm',color='orange', label='Iris-versicolor',ax=fig)\n",
        "iris1[iris1.Species=='Iris-virginica'].plot.scatter(x='PetalLengthCm',y='PetalWidthCm',color='green', label='Iris-virginica', ax=fig)\n",
        "fig.set_xlabel(\"chiều dài\")\n",
        "fig.set_ylabel(\"chiều rộng\")\n",
        "fig.set_title(\" mối quan hệ giữa chiều dài và chiều rộng của cánh hoa\")\n",
        "fig=plt.gcf()\n",
        "fig.set_size_inches(12,6)"
      ],
      "metadata": {
        "colab": {
          "base_uri": "https://localhost:8080/",
          "height": 411
        },
        "id": "tq8pDtZbQgv_",
        "outputId": "ba112d0a-3e6d-4e0a-8cd5-01993f1f766f"
      },
      "execution_count": null,
      "outputs": [
        {
          "output_type": "display_data",
          "data": {
            "text/plain": [
              "<Figure size 864x432 with 1 Axes>"
            ],
            "image/png": "[encoded data removed]"
          },
          "metadata": {
            "needs_background": "light"
          }
        }
      ]
    },
    {
      "cell_type": "markdown",
      "source": [
        "## Bài 3: Từ tập dữ liệu trong bộ nhớ nêu trên, hãy:\n",
        "- Trình bày cách xác định dữ liệu và xác định nhãn lớp. Code tương ứng\n",
        "- Trình bày cách chia tập dữ liệu ban đầu thành tập dữ liệu huấn luyện và tập dữ liệu kiểm thử. Code tương ứng."
      ],
      "metadata": {
        "id": "nQPeIFmNQlwQ"
      }
    },
    {
      "cell_type": "markdown",
      "source": [
        "### Trình bày cách xác định dữ liệu và xác định nhãn lớp. Code tương ứng\n",
        "- Each row is an observation (also known as : sample, example, instance, record)\n",
        "\n",
        "- Each column is a feature (also known as: Predictor, attribute, Independent Variable, input, regressor, Covariate)"
      ],
      "metadata": {
        "id": "CHUr-AdUQmdX"
      }
    },
    {
      "cell_type": "code",
      "source": [
        "# tên của bốn nhãn lớp\n",
        "iris.feature_names"
      ],
      "metadata": {
        "colab": {
          "base_uri": "https://localhost:8080/"
        },
        "id": "4y3iprhxQpC3",
        "outputId": "0b4cc310-2d8d-479b-8c33-ea8dd9c3094e"
      },
      "execution_count": null,
      "outputs": [
        {
          "output_type": "execute_result",
          "data": {
            "text/plain": [
              "['sepal length (cm)',\n",
              " 'sepal width (cm)',\n",
              " 'petal length (cm)',\n",
              " 'petal width (cm)']"
            ]
          },
          "metadata": {},
          "execution_count": 49
        }
      ]
    },
    {
      "cell_type": "code",
      "source": [
        "# dữ liệu các loài quan sát\n",
        "iris.data.shape"
      ],
      "metadata": {
        "colab": {
          "base_uri": "https://localhost:8080/"
        },
        "id": "l2B9NZ00QzAn",
        "outputId": "b20eb489-cc3e-4489-b594-2d538a5bfd24"
      },
      "execution_count": null,
      "outputs": [
        {
          "output_type": "execute_result",
          "data": {
            "text/plain": [
              "(150, 4)"
            ]
          },
          "metadata": {},
          "execution_count": 50
        }
      ]
    },
    {
      "cell_type": "code",
      "source": [
        "#target name\n",
        "iris.target_names"
      ],
      "metadata": {
        "colab": {
          "base_uri": "https://localhost:8080/"
        },
        "id": "8stMS3WxQ2hH",
        "outputId": "d9337658-d750-4ae0-e1be-61eabba2ef9c"
      },
      "execution_count": null,
      "outputs": [
        {
          "output_type": "execute_result",
          "data": {
            "text/plain": [
              "array(['setosa', 'versicolor', 'virginica'], dtype='<U10')"
            ]
          },
          "metadata": {},
          "execution_count": 51
        }
      ]
    },
    {
      "cell_type": "markdown",
      "source": [
        "### Trình bày cách chia tập dữ liệu ban đầu thành tập dữ liệu huấn luyện và tập dữ liệu kiểm thử. Code tương ứng.\n",
        "\n",
        " chúng ta cần chia dữ liệu thành hai giá trị : giá trị đích và giá trị dự báo"
      ],
      "metadata": {
        "id": "aJA7dsMyQ7A2"
      }
    },
    {
      "cell_type": "code",
      "source": [
        "X, y = datasets.load_iris(return_X_y=True)"
      ],
      "metadata": {
        "id": "k5RjvHK-Q7mX"
      },
      "execution_count": null,
      "outputs": []
    },
    {
      "cell_type": "markdown",
      "source": [
        "Sử dụng Sklearn để train với tỉ lệ test =30% train =70%.\n",
        "\n",
        "Bây giờ chúng ta có thể split dữ liệu để train và test với snippet như sau."
      ],
      "metadata": {
        "id": "W1mw4mD0Q-JI"
      }
    },
    {
      "cell_type": "code",
      "source": [
        "from sklearn.model_selection import train_test_split\n",
        "X_train, X_test, y_train, y_test = train_test_split(X, y, test_size=0.3, random_state=0)"
      ],
      "metadata": {
        "id": "BCD02ic2Q-qA"
      },
      "execution_count": null,
      "outputs": []
    },
    {
      "cell_type": "markdown",
      "source": [
        "#### tập dữ liệu huấn luyện"
      ],
      "metadata": {
        "id": "PFxBO387RAqo"
      }
    },
    {
      "cell_type": "code",
      "source": [
        "X_train.shape"
      ],
      "metadata": {
        "colab": {
          "base_uri": "https://localhost:8080/"
        },
        "id": "oefiGSrHRDhv",
        "outputId": "3bc0d49e-d904-4ca1-ae13-c55f88a4a5fb"
      },
      "execution_count": null,
      "outputs": [
        {
          "output_type": "execute_result",
          "data": {
            "text/plain": [
              "(105, 4)"
            ]
          },
          "metadata": {},
          "execution_count": 54
        }
      ]
    },
    {
      "cell_type": "code",
      "source": [
        "y_train.shape"
      ],
      "metadata": {
        "colab": {
          "base_uri": "https://localhost:8080/"
        },
        "id": "k6E-xPomRG8n",
        "outputId": "2b4d0131-c848-4215-d366-c296100e2906"
      },
      "execution_count": null,
      "outputs": [
        {
          "output_type": "execute_result",
          "data": {
            "text/plain": [
              "(105,)"
            ]
          },
          "metadata": {},
          "execution_count": 55
        }
      ]
    },
    {
      "cell_type": "markdown",
      "source": [
        "#### tập dữ liệu kiểm thử"
      ],
      "metadata": {
        "id": "rKPqKu9DRKV_"
      }
    },
    {
      "cell_type": "code",
      "source": [
        "X_test.shape"
      ],
      "metadata": {
        "colab": {
          "base_uri": "https://localhost:8080/"
        },
        "id": "HQwSbqrjRKwN",
        "outputId": "fd148937-5960-42d3-d09e-3ccecdacb9ce"
      },
      "execution_count": null,
      "outputs": [
        {
          "output_type": "execute_result",
          "data": {
            "text/plain": [
              "(45, 4)"
            ]
          },
          "metadata": {},
          "execution_count": 56
        }
      ]
    },
    {
      "cell_type": "code",
      "source": [
        "y_test.shape"
      ],
      "metadata": {
        "colab": {
          "base_uri": "https://localhost:8080/"
        },
        "id": "1XrRMqEpRMX4",
        "outputId": "2739fdb7-c26a-4917-8952-8f26591d9258"
      },
      "execution_count": null,
      "outputs": [
        {
          "output_type": "execute_result",
          "data": {
            "text/plain": [
              "(45,)"
            ]
          },
          "metadata": {},
          "execution_count": 57
        }
      ]
    },
    {
      "cell_type": "markdown",
      "source": [
        "## Bài 4: Hãy trình bày lý thuyết về phương pháp 10-fold cross validation và code minh họa"
      ],
      "metadata": {
        "id": "yDk1m1cKRPqv"
      }
    },
    {
      "cell_type": "markdown",
      "source": [
        "#### k-fold\n",
        "\n",
        "+ Tập dữ liệu (data) được chia thành k tập con không giao nhau (gọi là “fold”) có kích thước xấp xỉ nhau.\n",
        "+ Mỗi lần lặp, một tập con trong k tập sẽ được dùng để làm tập kiểm thử, (k-1) tập còn lại sẽ được sử dụng làm tập huấn luyện.\n",
        "+ k giá trị lỗi (mỗi giá trị tương ứng với mỗi “fold”) sẽ được tính trung bình cộng để thu được giá trị lỗi tổng thể.\n",
        "\n",
        "Ví dụ: ta có thể chia data thành 10 hoặc 5 folds (k = 10 hoặc k = 5)\n",
        "Thông thường mỗi tập con (fold) được lấy mẫu phân tầng (xấp xỉ phân bố lớp) trước khi áp dụng quá trình đánh giá Cross validation\n",
        "=> Phù hợp khi ta có tập dữ liệu data vừa và nhỏ.\n",
        "![image.png](data:image/png;base64,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)"
      ],
      "metadata": {
        "id": "ZhxCKTrJRS93"
      }
    },
    {
      "cell_type": "code",
      "source": [
        "from sklearn.model_selection import KFold\n",
        "#Tạo dữ liệu \n",
        "A = [\"a\",'b','c','d','e','f','g','h','j','k','l','m']\n",
        "#Kfold CV\n",
        "cv = KFold(n_splits=10, random_state= 1 , shuffle=True)"
      ],
      "metadata": {
        "id": "fW5we2JIRWo5"
      },
      "execution_count": null,
      "outputs": []
    },
    {
      "cell_type": "code",
      "source": [
        "for train, test in cv.split(A):\n",
        "  print(\"Train data\",train,\"Test data\",test)"
      ],
      "metadata": {
        "colab": {
          "base_uri": "https://localhost:8080/"
        },
        "id": "SJ7JxJYKR4tx",
        "outputId": "04d15c47-4f0b-4fa4-bd59-f2d0fba12a98"
      },
      "execution_count": null,
      "outputs": [
        {
          "output_type": "stream",
          "name": "stdout",
          "text": [
            "Train data [ 0  1  4  5  6  7  8  9 10 11] Test data [2 3]\n",
            "Train data [ 0  1  2  3  5  6  7  8  9 11] Test data [ 4 10]\n",
            "Train data [ 0  2  3  4  5  6  7  8  9 10 11] Test data [1]\n",
            "Train data [ 0  1  2  3  4  5  7  8  9 10 11] Test data [6]\n",
            "Train data [ 1  2  3  4  5  6  7  8  9 10 11] Test data [0]\n",
            "Train data [ 0  1  2  3  4  5  6  8  9 10 11] Test data [7]\n",
            "Train data [ 0  1  2  3  4  5  6  7  8  9 10] Test data [11]\n",
            "Train data [ 0  1  2  3  4  5  6  7  8 10 11] Test data [9]\n",
            "Train data [ 0  1  2  3  4  5  6  7  9 10 11] Test data [8]\n",
            "Train data [ 0  1  2  3  4  6  7  8  9 10 11] Test data [5]\n"
          ]
        }
      ]
    },
    {
      "cell_type": "markdown",
      "source": [
        "### Bài 5: Hãy trình bày lý thuyết về các chủ điểm sau:\n",
        "- Bias là gì?\n",
        "- Overfitting là gì?\n",
        "- RMSE là gì?\n",
        "- Precision là gì?"
      ],
      "metadata": {
        "id": "DqtevJ5ER9JH"
      }
    },
    {
      "cell_type": "markdown",
      "source": [
        "#### 1. Bias \n",
        "\n",
        "Ngoài các trọng số, một thành phần tuyến tính khác được áp cho thông tin đầu vào, được gọi là bias. Nó được thêm vào kết quả của phép nhân trọng số với đầu vào. Kết quả của phép nhân luôn là một hàm tuyến tính đi qua gốc tọa độ, sử dụng bias giúp mạng nơ ron có thể dịch chuyển hàm tuyến tính này một cách linh hoạt. Bias cũng là một tham số được học trong quá trình huấn luyện mạng nơ-ron."
      ],
      "metadata": {
        "id": "0a87z2F1R934"
      }
    },
    {
      "cell_type": "markdown",
      "source": [
        "#### 2. Overfitting\n",
        "\n",
        "Xét tập data sau:\n",
        "\n",
        "![image.png](data:image/png;base64,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)\n",
        "\n",
        "\n",
        "Hình trên đang đề cập đến một Regression Problem, do đó y nhận giá trị liên tục. Nếu ứng dụng Linear Regression cho problem này, chúng ta thu được h(x) như sau:\n",
        "\n",
        "![image.png](data:image/png;base64,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)\n",
        "\n",
        "Quan sát bình thường ta có thể thấy hàm h(x) thu được như hình có vẻ không được khớp, bản thân đối với dữ liệu training ta đã thấy được sai số rõ rệt chứ chưa nói tới việc thử trên data mới. →Trường hợp trên vấn đề chúng ta gặp phải được gọi là Underfitting. Để phát triển lên mô hình tốt hơn, ta thử thêm vào một số thành phần đa thức, chẳng hạn đưa hàm số tuyến tính lên bậc 2. Có thể đoán h(x) có dạng như sau:\n",
        "\n",
        "![image.png](data:image/png;base64,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)\n",
        "\n",
        "Nhìn hình trên thì ta thấy mọi thứ có vẻ tốt hơn, tuy không khớp (fit) với mọi dữ liệu nhưng hàm h(x) đang đi theo đúng xu hướng của dữ liệu (nơi dữ liệu hội tụ hay còn gọi là pattern của chúng). Nhưng nếu như ta tiếp tục thêm các thành phần đa thức vào h(x), có thể giúp cho h(x) fit với mọi dữ liệu hay chí ít là phần lớn của chúng, tối thiểu được cost function về xấp xỉ 0, chẳng hạn:\n",
        "\n",
        "![image.png](data:image/png;base64,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)\n",
        "\n",
        "Hình trên, h(x) dường như đi qua mọi dữ liệu training, có nghĩa là cost funtion của ta xấp xỉ 0. Đúng ra khi cost function càng thấp, ta phải thu được h(x) tốt hơn, nhưng trong trường hợp trên, rõ ràng h(x) không đi theo xu thế của dữ liệu mà chỉ đơn thuần fit được nhiều dữ liệu training hay nói cách khác khi ta đưa h(x) vào sử dụng, nó cũng không thể dự đoán tốt được. →Trường hợp đơn giản nhất ở đây là khi bậc của h(x) cao hơn hoặc bằng số lượng dữ liệu training. Vấn đề này được gọi là Overfitting."
      ],
      "metadata": {
        "id": "SVw0_6IISAqg"
      }
    },
    {
      "cell_type": "markdown",
      "source": [
        "#### RMSE\n",
        "\n",
        "Root Mean Squared Error\n",
        "\n",
        "RMSE là thước đo mức độ lan tỏa của những phần dư. Nó cho bạn biết mức độ tập trung của dữ liệu xung quanh dòng phù hợp nhất.\n",
        "\n",
        "RMSE được tính bằng cách lấy căn bậc hai của MSE.\n",
        "\n",
        "Giải thích RMSE:\n",
        "+ RMSE được hiểu là độ lệch chuẩn của phương sai không giải thích được (MSE).\n",
        "+ RMSE chứa các đơn vị giống như biến phụ thuộc.\n",
        "+ Giá trị thấp hơn của RMSE cho thấy sự phù hợp tốt hơn.\n",
        "\n",
        "![image.png](data:image/png;base64,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)"
      ],
      "metadata": {
        "id": "AQtRIgKpTBpy"
      }
    },
    {
      "cell_type": "markdown",
      "source": [
        "#### Precision\n",
        "+ Thể hiện sự chuẩn xác của việc phát hiện các điểm Positive. Số này càng cao thì model nhận các điểm Positive càng chuẩn\n",
        "\n",
        "Precision = True Positive/True Positive + False Positive  \n",
        "Precision = TP/TP+FP  \n",
        "+  Độ chính xác của mô hình học máy sẽ thấp khi giá trị của;\n",
        "\n",
        "TP+FP (denominator) > TP (Numerator)  \n",
        "+ Độ chính xác của mô hình học máy sẽ cao khi Giá trị của;\n",
        "\n",
        "TP (Numerator) > TP+FP (denominator)  \n",
        "\n",
        "Do đó,Precision giúp chúng ta hình dung độ tin cậy của mô hình học máy trong việc phân loại mô hình là tích cực."
      ],
      "metadata": {
        "id": "B_FGMyICTmZo"
      }
    },
    {
      "cell_type": "markdown",
      "source": [
        "### Bài 6: Hãy trình bày phương pháp đánh giá mô hình bằng cách sử dụng tập dữ liệu kiểm thử (test dataset) và code tương ứng"
      ],
      "metadata": {
        "id": "DHESnMZ6TnvX"
      }
    },
    {
      "cell_type": "markdown",
      "source": [
        "Hiệu năng của một mô hình thường được đánh giá dựa trên tập dữ liệu kiểm thử (test data). Cụ thể, giả sử đầu ra của mô hình khi đầu vào là tập kiểm thử được mô tả bởi vector y_pred - là vector dự đoán đầu ra với mỗi phần tử là class được dự đoán của một điểm dữ liệu trong tập kiểm thử. Ta cần so sánh giữa vector dự đoán y_pred này với vector class thật của dữ liệu, được mô tả bởi vector y_true."
      ],
      "metadata": {
        "id": "oXuvc_vyTvNY"
      }
    },
    {
      "cell_type": "markdown",
      "source": [
        " sử dụng Accuracy"
      ],
      "metadata": {
        "id": "4yXkjIEJTwmf"
      }
    },
    {
      "cell_type": "code",
      "source": [
        "from __future__ import print_function\n",
        "import numpy as np \n",
        "from sklearn.metrics import mean_squared_error\n",
        "def acc(y_true, y_pred):\n",
        "    correct = np.sum(y_true == y_pred)\n",
        "    return float(correct)/y_true.shape[0]\n",
        "\n",
        "y_true = np.array([0, 0, 0, 0, 1, 1, 1, 2, 2, 2])\n",
        "y_pred = np.array([0, 1, 0, 2, 1, 1, 0, 2, 1, 2])\n",
        "print('accuracy = ', acc(y_true, y_pred))"
      ],
      "metadata": {
        "colab": {
          "base_uri": "https://localhost:8080/"
        },
        "id": "yN1xBJJxTyUv",
        "outputId": "16d62c1f-835e-4dc3-f303-1058dbaddddb"
      },
      "execution_count": null,
      "outputs": [
        {
          "output_type": "stream",
          "name": "stdout",
          "text": [
            "accuracy =  0.6\n"
          ]
        }
      ]
    },
    {
      "cell_type": "markdown",
      "source": [
        "Sử dụng RMSE"
      ],
      "metadata": {
        "id": "nSGv9VcDz2wi"
      }
    },
    {
      "cell_type": "code",
      "source": [
        "mean_squared_error(y_true, y_pred)"
      ],
      "metadata": {
        "colab": {
          "base_uri": "https://localhost:8080/"
        },
        "id": "CvKNKPumz2It",
        "outputId": "f10c4f79-6a71-4e2c-d23e-dcc18d1defeb"
      },
      "execution_count": null,
      "outputs": [
        {
          "output_type": "execute_result",
          "data": {
            "text/plain": [
              "0.7"
            ]
          },
          "metadata": {},
          "execution_count": 61
        }
      ]
    },
    {
      "cell_type": "markdown",
      "source": [
        "### Bài 7: Bạn hãy lựa chọn 1 tập dữ liệu phù hợp với bài toán hồi quy tuyến tính và xây dựng mô hình hồi quy tuyến tính theo từng bước (kèm với mô tả của từng bước)\n",
        "- Bước 1: Tải dữ liệu\n",
        "- Bước 2: Mô tả dữ liệu\n",
        "- Bước 3: Phân chia train – test (tỉ lệ 70% -30%)\n",
        "- Bước 4: Huấn luyện mô hình với train set (10-fold cross validation)\n",
        "- Bước 5: Kiểm thử mô hình với test set\n",
        "- Bước 6: Trình bày kết quả và nhận xét"
      ],
      "metadata": {
        "id": "PO7JHVLDT44c"
      }
    },
    {
      "cell_type": "code",
      "source": [
        "#import thư viện cần dùng\n",
        "import scipy.stats as stats\n",
        "import matplotlib.pyplot as plt\n",
        "import sklearn\n",
        "import statsmodels.api as sm\n",
        "\n",
        "import seaborn as sns\n",
        "sns.set_style(\"whitegrid\")\n",
        "sns.set_context(\"poster\")\n",
        "\n",
        "from matplotlib import rcParams"
      ],
      "metadata": {
        "colab": {
          "base_uri": "https://localhost:8080/"
        },
        "id": "3Xd5sLWQUHAv",
        "outputId": "1ccf494c-d0f5-4d72-c93d-63985fe6c77d"
      },
      "execution_count": null,
      "outputs": [
        {
          "output_type": "stream",
          "name": "stderr",
          "text": [
            "/usr/local/lib/python3.7/dist-packages/statsmodels/tools/_testing.py:19: FutureWarning: pandas.util.testing is deprecated. Use the functions in the public API at pandas.testing instead.\n",
            "  import pandas.util.testing as tm\n"
          ]
        }
      ]
    },
    {
      "cell_type": "markdown",
      "source": [
        "**Bước 1:** Tải dữ liệu\n",
        "\n",
        "Trước hết, chúng ta sẽ import bộ dữ liệu Boston Housing và lưu trữ nó trong một biến gọi là boston. Để import nó từ scikit-learn, chúng ta sẽ cần phải chạy đoạn mã này."
      ],
      "metadata": {
        "id": "ctej8tqLUHe_"
      }
    },
    {
      "cell_type": "code",
      "source": [
        "from sklearn.datasets import load_boston\n",
        "boston = load_boston()"
      ],
      "metadata": {
        "colab": {
          "base_uri": "https://localhost:8080/"
        },
        "id": "IdKs7biTULyh",
        "outputId": "d2de3851-d5da-4bd8-8802-a4dc474e59a5"
      },
      "execution_count": null,
      "outputs": [
        {
          "output_type": "stream",
          "name": "stderr",
          "text": [
            "/usr/local/lib/python3.7/dist-packages/sklearn/utils/deprecation.py:87: FutureWarning: Function load_boston is deprecated; `load_boston` is deprecated in 1.0 and will be removed in 1.2.\n",
            "\n",
            "    The Boston housing prices dataset has an ethical problem. You can refer to\n",
            "    the documentation of this function for further details.\n",
            "\n",
            "    The scikit-learn maintainers therefore strongly discourage the use of this\n",
            "    dataset unless the purpose of the code is to study and educate about\n",
            "    ethical issues in data science and machine learning.\n",
            "\n",
            "    In this special case, you can fetch the dataset from the original\n",
            "    source::\n",
            "\n",
            "        import pandas as pd\n",
            "        import numpy as np\n",
            "\n",
            "\n",
            "        data_url = \"http://lib.stat.cmu.edu/datasets/boston\"\n",
            "        raw_df = pd.read_csv(data_url, sep=\"\\s+\", skiprows=22, header=None)\n",
            "        data = np.hstack([raw_df.values[::2, :], raw_df.values[1::2, :2]])\n",
            "        target = raw_df.values[1::2, 2]\n",
            "\n",
            "    Alternative datasets include the California housing dataset (i.e.\n",
            "    :func:`~sklearn.datasets.fetch_california_housing`) and the Ames housing\n",
            "    dataset. You can load the datasets as follows::\n",
            "\n",
            "        from sklearn.datasets import fetch_california_housing\n",
            "        housing = fetch_california_housing()\n",
            "\n",
            "    for the California housing dataset and::\n",
            "\n",
            "        from sklearn.datasets import fetch_openml\n",
            "        housing = fetch_openml(name=\"house_prices\", as_frame=True)\n",
            "\n",
            "    for the Ames housing dataset.\n",
            "    \n",
            "  warnings.warn(msg, category=FutureWarning)\n"
          ]
        }
      ]
    },
    {
      "cell_type": "markdown",
      "source": [
        "**Bước 2:** Mô tả dữ liệu \n",
        "\n",
        "Biến boston là một dạng từ điển, vì vậy chúng ta có thể kiểm tra key của nó sử dụng đoạn mã bên dưới."
      ],
      "metadata": {
        "id": "dujXiOK5UJxA"
      }
    },
    {
      "cell_type": "code",
      "source": [
        "boston.keys()"
      ],
      "metadata": {
        "colab": {
          "base_uri": "https://localhost:8080/"
        },
        "id": "I9uLyjqRUOv3",
        "outputId": "f7a80f90-9f6f-4f97-f2fc-92b8b7f37db8"
      },
      "execution_count": null,
      "outputs": [
        {
          "output_type": "execute_result",
          "data": {
            "text/plain": [
              "dict_keys(['data', 'target', 'feature_names', 'DESCR', 'filename', 'data_module'])"
            ]
          },
          "metadata": {},
          "execution_count": 64
        }
      ]
    },
    {
      "cell_type": "markdown",
      "source": [
        "Trước tiên, chúng ta có thể dễ dàng kiểm tra shape của nó bằng cách gọi boston.data.shape và nó sẽ trả lại kích thước của tập dữ liệu với kích thước column"
      ],
      "metadata": {
        "id": "dKE0TTQ_URao"
      }
    },
    {
      "cell_type": "code",
      "source": [
        "boston.data.shape"
      ],
      "metadata": {
        "colab": {
          "base_uri": "https://localhost:8080/"
        },
        "id": "vdF3m92AUV_o",
        "outputId": "b937a31c-789c-488b-e2bc-9bff17d25e75"
      },
      "execution_count": null,
      "outputs": [
        {
          "output_type": "execute_result",
          "data": {
            "text/plain": [
              "(506, 13)"
            ]
          },
          "metadata": {},
          "execution_count": 65
        }
      ]
    },
    {
      "cell_type": "markdown",
      "source": [
        "Như chúng ta có thể thấy nó trả về (506, 13), có nghĩa là có 506 hàng dữ liệu với 13 cột. muốn biết 13 cột là gì"
      ],
      "metadata": {
        "id": "YT30EJ7wUUpw"
      }
    },
    {
      "cell_type": "code",
      "source": [
        "boston.feature_names"
      ],
      "metadata": {
        "colab": {
          "base_uri": "https://localhost:8080/"
        },
        "id": "D-FIM-glU9cx",
        "outputId": "b7bf486e-cabc-4a0e-ab3b-d661500d5a5c"
      },
      "execution_count": null,
      "outputs": [
        {
          "output_type": "execute_result",
          "data": {
            "text/plain": [
              "array(['CRIM', 'ZN', 'INDUS', 'CHAS', 'NOX', 'RM', 'AGE', 'DIS', 'RAD',\n",
              "       'TAX', 'PTRATIO', 'B', 'LSTAT'], dtype='<U7')"
            ]
          },
          "metadata": {},
          "execution_count": 66
        }
      ]
    },
    {
      "cell_type": "markdown",
      "source": [
        "kiểm tra description của dữ liệu"
      ],
      "metadata": {
        "id": "vqw-6x8ZVAvX"
      }
    },
    {
      "cell_type": "code",
      "source": [
        "print(boston.DESCR)"
      ],
      "metadata": {
        "colab": {
          "base_uri": "https://localhost:8080/"
        },
        "id": "LjwswgwEVEW3",
        "outputId": "2ae9b8a4-f528-4159-a259-06e88e9016d9"
      },
      "execution_count": null,
      "outputs": [
        {
          "output_type": "stream",
          "name": "stdout",
          "text": [
            ".. _boston_dataset:\n",
            "\n",
            "Boston house prices dataset\n",
            "---------------------------\n",
            "\n",
            "**Data Set Characteristics:**  \n",
            "\n",
            "    :Number of Instances: 506 \n",
            "\n",
            "    :Number of Attributes: 13 numeric/categorical predictive. Median Value (attribute 14) is usually the target.\n",
            "\n",
            "    :Attribute Information (in order):\n",
            "        - CRIM     per capita crime rate by town\n",
            "        - ZN       proportion of residential land zoned for lots over 25,000 sq.ft.\n",
            "        - INDUS    proportion of non-retail business acres per town\n",
            "        - CHAS     Charles River dummy variable (= 1 if tract bounds river; 0 otherwise)\n",
            "        - NOX      nitric oxides concentration (parts per 10 million)\n",
            "        - RM       average number of rooms per dwelling\n",
            "        - AGE      proportion of owner-occupied units built prior to 1940\n",
            "        - DIS      weighted distances to five Boston employment centres\n",
            "        - RAD      index of accessibility to radial highways\n",
            "        - TAX      full-value property-tax rate per $10,000\n",
            "        - PTRATIO  pupil-teacher ratio by town\n",
            "        - B        1000(Bk - 0.63)^2 where Bk is the proportion of black people by town\n",
            "        - LSTAT    % lower status of the population\n",
            "        - MEDV     Median value of owner-occupied homes in $1000's\n",
            "\n",
            "    :Missing Attribute Values: None\n",
            "\n",
            "    :Creator: Harrison, D. and Rubinfeld, D.L.\n",
            "\n",
            "This is a copy of UCI ML housing dataset.\n",
            "https://archive.ics.uci.edu/ml/machine-learning-databases/housing/\n",
            "\n",
            "\n",
            "This dataset was taken from the StatLib library which is maintained at Carnegie Mellon University.\n",
            "\n",
            "The Boston house-price data of Harrison, D. and Rubinfeld, D.L. 'Hedonic\n",
            "prices and the demand for clean air', J. Environ. Economics & Management,\n",
            "vol.5, 81-102, 1978.   Used in Belsley, Kuh & Welsch, 'Regression diagnostics\n",
            "...', Wiley, 1980.   N.B. Various transformations are used in the table on\n",
            "pages 244-261 of the latter.\n",
            "\n",
            "The Boston house-price data has been used in many machine learning papers that address regression\n",
            "problems.   \n",
            "     \n",
            ".. topic:: References\n",
            "\n",
            "   - Belsley, Kuh & Welsch, 'Regression diagnostics: Identifying Influential Data and Sources of Collinearity', Wiley, 1980. 244-261.\n",
            "   - Quinlan,R. (1993). Combining Instance-Based and Model-Based Learning. In Proceedings on the Tenth International Conference of Machine Learning, 236-243, University of Massachusetts, Amherst. Morgan Kaufmann.\n",
            "\n"
          ]
        }
      ]
    },
    {
      "cell_type": "markdown",
      "source": [
        "convert dữ liệu về dạng pandas"
      ],
      "metadata": {
        "id": "d-npLcJsVF0Y"
      }
    },
    {
      "cell_type": "code",
      "source": [
        "bos = pd.DataFrame(boston.data)\n",
        "bos.columns = boston.feature_names\n",
        "bos['PRICE'] = boston.target\n",
        "bos.head()"
      ],
      "metadata": {
        "colab": {
          "base_uri": "https://localhost:8080/",
          "height": 206
        },
        "id": "RSCAL8UYVIX4",
        "outputId": "e8727718-247e-4bb8-a78b-a35d08ef2fed"
      },
      "execution_count": null,
      "outputs": [
        {
          "output_type": "execute_result",
          "data": {
            "text/plain": [
              "      CRIM    ZN  INDUS  CHAS    NOX     RM   AGE     DIS  RAD    TAX  \\\n",
              "0  0.00632  18.0   2.31   0.0  0.538  6.575  65.2  4.0900  1.0  296.0   \n",
              "1  0.02731   0.0   7.07   0.0  0.469  6.421  78.9  4.9671  2.0  242.0   \n",
              "2  0.02729   0.0   7.07   0.0  0.469  7.185  61.1  4.9671  2.0  242.0   \n",
              "3  0.03237   0.0   2.18   0.0  0.458  6.998  45.8  6.0622  3.0  222.0   \n",
              "4  0.06905   0.0   2.18   0.0  0.458  7.147  54.2  6.0622  3.0  222.0   \n",
              "\n",
              "   PTRATIO       B  LSTAT  PRICE  \n",
              "0     15.3  396.90   4.98   24.0  \n",
              "1     17.8  396.90   9.14   21.6  \n",
              "2     17.8  392.83   4.03   34.7  \n",
              "3     18.7  394.63   2.94   33.4  \n",
              "4     18.7  396.90   5.33   36.2  "
            ],
            "text/html": [
              "\n",
              "  <div id=\"df-f5cdb33d-d9f8-4cfd-bdb1-e876ca55a657\">\n",
              "    <div class=\"colab-df-container\">\n",
              "      <div>\n",
              "<style scoped>\n",
              "    .dataframe tbody tr th:only-of-type {\n",
              "        vertical-align: middle;\n",
              "    }\n",
              "\n",
              "    .dataframe tbody tr th {\n",
              "        vertical-align: top;\n",
              "    }\n",
              "\n",
              "    .dataframe thead th {\n",
              "        text-align: right;\n",
              "    }\n",
              "</style>\n",
              "<table border=\"1\" class=\"dataframe\">\n",
              "  <thead>\n",
              "    <tr style=\"text-align: right;\">\n",
              "      <th></th>\n",
              "      <th>CRIM</th>\n",
              "      <th>ZN</th>\n",
              "      <th>INDUS</th>\n",
              "      <th>CHAS</th>\n",
              "      <th>NOX</th>\n",
              "      <th>RM</th>\n",
              "      <th>AGE</th>\n",
              "      <th>DIS</th>\n",
              "      <th>RAD</th>\n",
              "      <th>TAX</th>\n",
              "      <th>PTRATIO</th>\n",
              "      <th>B</th>\n",
              "      <th>LSTAT</th>\n",
              "      <th>PRICE</th>\n",
              "    </tr>\n",
              "  </thead>\n",
              "  <tbody>\n",
              "    <tr>\n",
              "      <th>0</th>\n",
              "      <td>0.00632</td>\n",
              "      <td>18.0</td>\n",
              "      <td>2.31</td>\n",
              "      <td>0.0</td>\n",
              "      <td>0.538</td>\n",
              "      <td>6.575</td>\n",
              "      <td>65.2</td>\n",
              "      <td>4.0900</td>\n",
              "      <td>1.0</td>\n",
              "      <td>296.0</td>\n",
              "      <td>15.3</td>\n",
              "      <td>396.90</td>\n",
              "      <td>4.98</td>\n",
              "      <td>24.0</td>\n",
              "    </tr>\n",
              "    <tr>\n",
              "      <th>1</th>\n",
              "      <td>0.02731</td>\n",
              "      <td>0.0</td>\n",
              "      <td>7.07</td>\n",
              "      <td>0.0</td>\n",
              "      <td>0.469</td>\n",
              "      <td>6.421</td>\n",
              "      <td>78.9</td>\n",
              "      <td>4.9671</td>\n",
              "      <td>2.0</td>\n",
              "      <td>242.0</td>\n",
              "      <td>17.8</td>\n",
              "      <td>396.90</td>\n",
              "      <td>9.14</td>\n",
              "      <td>21.6</td>\n",
              "    </tr>\n",
              "    <tr>\n",
              "      <th>2</th>\n",
              "      <td>0.02729</td>\n",
              "      <td>0.0</td>\n",
              "      <td>7.07</td>\n",
              "      <td>0.0</td>\n",
              "      <td>0.469</td>\n",
              "      <td>7.185</td>\n",
              "      <td>61.1</td>\n",
              "      <td>4.9671</td>\n",
              "      <td>2.0</td>\n",
              "      <td>242.0</td>\n",
              "      <td>17.8</td>\n",
              "      <td>392.83</td>\n",
              "      <td>4.03</td>\n",
              "      <td>34.7</td>\n",
              "    </tr>\n",
              "    <tr>\n",
              "      <th>3</th>\n",
              "      <td>0.03237</td>\n",
              "      <td>0.0</td>\n",
              "      <td>2.18</td>\n",
              "      <td>0.0</td>\n",
              "      <td>0.458</td>\n",
              "      <td>6.998</td>\n",
              "      <td>45.8</td>\n",
              "      <td>6.0622</td>\n",
              "      <td>3.0</td>\n",
              "      <td>222.0</td>\n",
              "      <td>18.7</td>\n",
              "      <td>394.63</td>\n",
              "      <td>2.94</td>\n",
              "      <td>33.4</td>\n",
              "    </tr>\n",
              "    <tr>\n",
              "      <th>4</th>\n",
              "      <td>0.06905</td>\n",
              "      <td>0.0</td>\n",
              "      <td>2.18</td>\n",
              "      <td>0.0</td>\n",
              "      <td>0.458</td>\n",
              "      <td>7.147</td>\n",
              "      <td>54.2</td>\n",
              "      <td>6.0622</td>\n",
              "      <td>3.0</td>\n",
              "      <td>222.0</td>\n",
              "      <td>18.7</td>\n",
              "      <td>396.90</td>\n",
              "      <td>5.33</td>\n",
              "      <td>36.2</td>\n",
              "    </tr>\n",
              "  </tbody>\n",
              "</table>\n",
              "</div>\n",
              "      <button class=\"colab-df-convert\" onclick=\"convertToInteractive('df-f5cdb33d-d9f8-4cfd-bdb1-e876ca55a657')\"\n",
              "              title=\"Convert this dataframe to an interactive table.\"\n",
              "              style=\"display:none;\">\n",
              "        \n",
              "  <svg xmlns=\"http://www.w3.org/2000/svg\" height=\"24px\"viewBox=\"0 0 24 24\"\n",
              "       width=\"24px\">\n",
              "    <path d=\"M0 0h24v24H0V0z\" fill=\"none\"/>\n",
              "    <path d=\"M18.56 5.44l.94 2.06.94-2.06 2.06-.94-2.06-.94-.94-2.06-.94 2.06-2.06.94zm-11 1L8.5 8.5l.94-2.06 2.06-.94-2.06-.94L8.5 2.5l-.94 2.06-2.06.94zm10 10l.94 2.06.94-2.06 2.06-.94-2.06-.94-.94-2.06-.94 2.06-2.06.94z\"/><path d=\"M17.41 7.96l-1.37-1.37c-.4-.4-.92-.59-1.43-.59-.52 0-1.04.2-1.43.59L10.3 9.45l-7.72 7.72c-.78.78-.78 2.05 0 2.83L4 21.41c.39.39.9.59 1.41.59.51 0 1.02-.2 1.41-.59l7.78-7.78 2.81-2.81c.8-.78.8-2.07 0-2.86zM5.41 20L4 18.59l7.72-7.72 1.47 1.35L5.41 20z\"/>\n",
              "  </svg>\n",
              "      </button>\n",
              "      \n",
              "  <style>\n",
              "    .colab-df-container {\n",
              "      display:flex;\n",
              "      flex-wrap:wrap;\n",
              "      gap: 12px;\n",
              "    }\n",
              "\n",
              "    .colab-df-convert {\n",
              "      background-color: #E8F0FE;\n",
              "      border: none;\n",
              "      border-radius: 50%;\n",
              "      cursor: pointer;\n",
              "      display: none;\n",
              "      fill: #1967D2;\n",
              "      height: 32px;\n",
              "      padding: 0 0 0 0;\n",
              "      width: 32px;\n",
              "    }\n",
              "\n",
              "    .colab-df-convert:hover {\n",
              "      background-color: #E2EBFA;\n",
              "      box-shadow: 0px 1px 2px rgba(60, 64, 67, 0.3), 0px 1px 3px 1px rgba(60, 64, 67, 0.15);\n",
              "      fill: #174EA6;\n",
              "    }\n",
              "\n",
              "    [theme=dark] .colab-df-convert {\n",
              "      background-color: #3B4455;\n",
              "      fill: #D2E3FC;\n",
              "    }\n",
              "\n",
              "    [theme=dark] .colab-df-convert:hover {\n",
              "      background-color: #434B5C;\n",
              "      box-shadow: 0px 1px 3px 1px rgba(0, 0, 0, 0.15);\n",
              "      filter: drop-shadow(0px 1px 2px rgba(0, 0, 0, 0.3));\n",
              "      fill: #FFFFFF;\n",
              "    }\n",
              "  </style>\n",
              "\n",
              "      <script>\n",
              "        const buttonEl =\n",
              "          document.querySelector('#df-f5cdb33d-d9f8-4cfd-bdb1-e876ca55a657 button.colab-df-convert');\n",
              "        buttonEl.style.display =\n",
              "          google.colab.kernel.accessAllowed ? 'block' : 'none';\n",
              "\n",
              "        async function convertToInteractive(key) {\n",
              "          const element = document.querySelector('#df-f5cdb33d-d9f8-4cfd-bdb1-e876ca55a657');\n",
              "          const dataTable =\n",
              "            await google.colab.kernel.invokeFunction('convertToInteractive',\n",
              "                                                     [key], {});\n",
              "          if (!dataTable) return;\n",
              "\n",
              "          const docLinkHtml = 'Like what you see? Visit the ' +\n",
              "            '<a target=\"_blank\" href=https://colab.research.google.com/notebooks/data_table.ipynb>data table notebook</a>'\n",
              "            + ' to learn more about interactive tables.';\n",
              "          element.innerHTML = '';\n",
              "          dataTable['output_type'] = 'display_data';\n",
              "          await google.colab.output.renderOutput(dataTable, element);\n",
              "          const docLink = document.createElement('div');\n",
              "          docLink.innerHTML = docLinkHtml;\n",
              "          element.appendChild(docLink);\n",
              "        }\n",
              "      </script>\n",
              "    </div>\n",
              "  </div>\n",
              "  "
            ]
          },
          "metadata": {},
          "execution_count": 68
        }
      ]
    },
    {
      "cell_type": "markdown",
      "source": [
        "các số liệu tổng hợp thống kê (count, mean, bla bla...) "
      ],
      "metadata": {
        "id": "svj3Yq2sVHqo"
      }
    },
    {
      "cell_type": "code",
      "source": [
        "bos.describe()"
      ],
      "metadata": {
        "colab": {
          "base_uri": "https://localhost:8080/",
          "height": 344
        },
        "id": "lQCR8gw_VOXG",
        "outputId": "09f4a1bf-dbfd-48d7-e680-41ec57e9a156"
      },
      "execution_count": null,
      "outputs": [
        {
          "output_type": "execute_result",
          "data": {
            "text/plain": [
              "             CRIM          ZN       INDUS        CHAS         NOX          RM  \\\n",
              "count  506.000000  506.000000  506.000000  506.000000  506.000000  506.000000   \n",
              "mean     3.613524   11.363636   11.136779    0.069170    0.554695    6.284634   \n",
              "std      8.601545   23.322453    6.860353    0.253994    0.115878    0.702617   \n",
              "min      0.006320    0.000000    0.460000    0.000000    0.385000    3.561000   \n",
              "25%      0.082045    0.000000    5.190000    0.000000    0.449000    5.885500   \n",
              "50%      0.256510    0.000000    9.690000    0.000000    0.538000    6.208500   \n",
              "75%      3.677083   12.500000   18.100000    0.000000    0.624000    6.623500   \n",
              "max     88.976200  100.000000   27.740000    1.000000    0.871000    8.780000   \n",
              "\n",
              "              AGE         DIS         RAD         TAX     PTRATIO           B  \\\n",
              "count  506.000000  506.000000  506.000000  506.000000  506.000000  506.000000   \n",
              "mean    68.574901    3.795043    9.549407  408.237154   18.455534  356.674032   \n",
              "std     28.148861    2.105710    8.707259  168.537116    2.164946   91.294864   \n",
              "min      2.900000    1.129600    1.000000  187.000000   12.600000    0.320000   \n",
              "25%     45.025000    2.100175    4.000000  279.000000   17.400000  375.377500   \n",
              "50%     77.500000    3.207450    5.000000  330.000000   19.050000  391.440000   \n",
              "75%     94.075000    5.188425   24.000000  666.000000   20.200000  396.225000   \n",
              "max    100.000000   12.126500   24.000000  711.000000   22.000000  396.900000   \n",
              "\n",
              "            LSTAT       PRICE  \n",
              "count  506.000000  506.000000  \n",
              "mean    12.653063   22.532806  \n",
              "std      7.141062    9.197104  \n",
              "min      1.730000    5.000000  \n",
              "25%      6.950000   17.025000  \n",
              "50%     11.360000   21.200000  \n",
              "75%     16.955000   25.000000  \n",
              "max     37.970000   50.000000  "
            ],
            "text/html": [
              "\n",
              "  <div id=\"df-f935b253-a1e6-44c2-898e-bef4254e825e\">\n",
              "    <div class=\"colab-df-container\">\n",
              "      <div>\n",
              "<style scoped>\n",
              "    .dataframe tbody tr th:only-of-type {\n",
              "        vertical-align: middle;\n",
              "    }\n",
              "\n",
              "    .dataframe tbody tr th {\n",
              "        vertical-align: top;\n",
              "    }\n",
              "\n",
              "    .dataframe thead th {\n",
              "        text-align: right;\n",
              "    }\n",
              "</style>\n",
              "<table border=\"1\" class=\"dataframe\">\n",
              "  <thead>\n",
              "    <tr style=\"text-align: right;\">\n",
              "      <th></th>\n",
              "      <th>CRIM</th>\n",
              "      <th>ZN</th>\n",
              "      <th>INDUS</th>\n",
              "      <th>CHAS</th>\n",
              "      <th>NOX</th>\n",
              "      <th>RM</th>\n",
              "      <th>AGE</th>\n",
              "      <th>DIS</th>\n",
              "      <th>RAD</th>\n",
              "      <th>TAX</th>\n",
              "      <th>PTRATIO</th>\n",
              "      <th>B</th>\n",
              "      <th>LSTAT</th>\n",
              "      <th>PRICE</th>\n",
              "    </tr>\n",
              "  </thead>\n",
              "  <tbody>\n",
              "    <tr>\n",
              "      <th>count</th>\n",
              "      <td>506.000000</td>\n",
              "      <td>506.000000</td>\n",
              "      <td>506.000000</td>\n",
              "      <td>506.000000</td>\n",
              "      <td>506.000000</td>\n",
              "      <td>506.000000</td>\n",
              "      <td>506.000000</td>\n",
              "      <td>506.000000</td>\n",
              "      <td>506.000000</td>\n",
              "      <td>506.000000</td>\n",
              "      <td>506.000000</td>\n",
              "      <td>506.000000</td>\n",
              "      <td>506.000000</td>\n",
              "      <td>506.000000</td>\n",
              "    </tr>\n",
              "    <tr>\n",
              "      <th>mean</th>\n",
              "      <td>3.613524</td>\n",
              "      <td>11.363636</td>\n",
              "      <td>11.136779</td>\n",
              "      <td>0.069170</td>\n",
              "      <td>0.554695</td>\n",
              "      <td>6.284634</td>\n",
              "      <td>68.574901</td>\n",
              "      <td>3.795043</td>\n",
              "      <td>9.549407</td>\n",
              "      <td>408.237154</td>\n",
              "      <td>18.455534</td>\n",
              "      <td>356.674032</td>\n",
              "      <td>12.653063</td>\n",
              "      <td>22.532806</td>\n",
              "    </tr>\n",
              "    <tr>\n",
              "      <th>std</th>\n",
              "      <td>8.601545</td>\n",
              "      <td>23.322453</td>\n",
              "      <td>6.860353</td>\n",
              "      <td>0.253994</td>\n",
              "      <td>0.115878</td>\n",
              "      <td>0.702617</td>\n",
              "      <td>28.148861</td>\n",
              "      <td>2.105710</td>\n",
              "      <td>8.707259</td>\n",
              "      <td>168.537116</td>\n",
              "      <td>2.164946</td>\n",
              "      <td>91.294864</td>\n",
              "      <td>7.141062</td>\n",
              "      <td>9.197104</td>\n",
              "    </tr>\n",
              "    <tr>\n",
              "      <th>min</th>\n",
              "      <td>0.006320</td>\n",
              "      <td>0.000000</td>\n",
              "      <td>0.460000</td>\n",
              "      <td>0.000000</td>\n",
              "      <td>0.385000</td>\n",
              "      <td>3.561000</td>\n",
              "      <td>2.900000</td>\n",
              "      <td>1.129600</td>\n",
              "      <td>1.000000</td>\n",
              "      <td>187.000000</td>\n",
              "      <td>12.600000</td>\n",
              "      <td>0.320000</td>\n",
              "      <td>1.730000</td>\n",
              "      <td>5.000000</td>\n",
              "    </tr>\n",
              "    <tr>\n",
              "      <th>25%</th>\n",
              "      <td>0.082045</td>\n",
              "      <td>0.000000</td>\n",
              "      <td>5.190000</td>\n",
              "      <td>0.000000</td>\n",
              "      <td>0.449000</td>\n",
              "      <td>5.885500</td>\n",
              "      <td>45.025000</td>\n",
              "      <td>2.100175</td>\n",
              "      <td>4.000000</td>\n",
              "      <td>279.000000</td>\n",
              "      <td>17.400000</td>\n",
              "      <td>375.377500</td>\n",
              "      <td>6.950000</td>\n",
              "      <td>17.025000</td>\n",
              "    </tr>\n",
              "    <tr>\n",
              "      <th>50%</th>\n",
              "      <td>0.256510</td>\n",
              "      <td>0.000000</td>\n",
              "      <td>9.690000</td>\n",
              "      <td>0.000000</td>\n",
              "      <td>0.538000</td>\n",
              "      <td>6.208500</td>\n",
              "      <td>77.500000</td>\n",
              "      <td>3.207450</td>\n",
              "      <td>5.000000</td>\n",
              "      <td>330.000000</td>\n",
              "      <td>19.050000</td>\n",
              "      <td>391.440000</td>\n",
              "      <td>11.360000</td>\n",
              "      <td>21.200000</td>\n",
              "    </tr>\n",
              "    <tr>\n",
              "      <th>75%</th>\n",
              "      <td>3.677083</td>\n",
              "      <td>12.500000</td>\n",
              "      <td>18.100000</td>\n",
              "      <td>0.000000</td>\n",
              "      <td>0.624000</td>\n",
              "      <td>6.623500</td>\n",
              "      <td>94.075000</td>\n",
              "      <td>5.188425</td>\n",
              "      <td>24.000000</td>\n",
              "      <td>666.000000</td>\n",
              "      <td>20.200000</td>\n",
              "      <td>396.225000</td>\n",
              "      <td>16.955000</td>\n",
              "      <td>25.000000</td>\n",
              "    </tr>\n",
              "    <tr>\n",
              "      <th>max</th>\n",
              "      <td>88.976200</td>\n",
              "      <td>100.000000</td>\n",
              "      <td>27.740000</td>\n",
              "      <td>1.000000</td>\n",
              "      <td>0.871000</td>\n",
              "      <td>8.780000</td>\n",
              "      <td>100.000000</td>\n",
              "      <td>12.126500</td>\n",
              "      <td>24.000000</td>\n",
              "      <td>711.000000</td>\n",
              "      <td>22.000000</td>\n",
              "      <td>396.900000</td>\n",
              "      <td>37.970000</td>\n",
              "      <td>50.000000</td>\n",
              "    </tr>\n",
              "  </tbody>\n",
              "</table>\n",
              "</div>\n",
              "      <button class=\"colab-df-convert\" onclick=\"convertToInteractive('df-f935b253-a1e6-44c2-898e-bef4254e825e')\"\n",
              "              title=\"Convert this dataframe to an interactive table.\"\n",
              "              style=\"display:none;\">\n",
              "        \n",
              "  <svg xmlns=\"http://www.w3.org/2000/svg\" height=\"24px\"viewBox=\"0 0 24 24\"\n",
              "       width=\"24px\">\n",
              "    <path d=\"M0 0h24v24H0V0z\" fill=\"none\"/>\n",
              "    <path d=\"M18.56 5.44l.94 2.06.94-2.06 2.06-.94-2.06-.94-.94-2.06-.94 2.06-2.06.94zm-11 1L8.5 8.5l.94-2.06 2.06-.94-2.06-.94L8.5 2.5l-.94 2.06-2.06.94zm10 10l.94 2.06.94-2.06 2.06-.94-2.06-.94-.94-2.06-.94 2.06-2.06.94z\"/><path d=\"M17.41 7.96l-1.37-1.37c-.4-.4-.92-.59-1.43-.59-.52 0-1.04.2-1.43.59L10.3 9.45l-7.72 7.72c-.78.78-.78 2.05 0 2.83L4 21.41c.39.39.9.59 1.41.59.51 0 1.02-.2 1.41-.59l7.78-7.78 2.81-2.81c.8-.78.8-2.07 0-2.86zM5.41 20L4 18.59l7.72-7.72 1.47 1.35L5.41 20z\"/>\n",
              "  </svg>\n",
              "      </button>\n",
              "      \n",
              "  <style>\n",
              "    .colab-df-container {\n",
              "      display:flex;\n",
              "      flex-wrap:wrap;\n",
              "      gap: 12px;\n",
              "    }\n",
              "\n",
              "    .colab-df-convert {\n",
              "      background-color: #E8F0FE;\n",
              "      border: none;\n",
              "      border-radius: 50%;\n",
              "      cursor: pointer;\n",
              "      display: none;\n",
              "      fill: #1967D2;\n",
              "      height: 32px;\n",
              "      padding: 0 0 0 0;\n",
              "      width: 32px;\n",
              "    }\n",
              "\n",
              "    .colab-df-convert:hover {\n",
              "      background-color: #E2EBFA;\n",
              "      box-shadow: 0px 1px 2px rgba(60, 64, 67, 0.3), 0px 1px 3px 1px rgba(60, 64, 67, 0.15);\n",
              "      fill: #174EA6;\n",
              "    }\n",
              "\n",
              "    [theme=dark] .colab-df-convert {\n",
              "      background-color: #3B4455;\n",
              "      fill: #D2E3FC;\n",
              "    }\n",
              "\n",
              "    [theme=dark] .colab-df-convert:hover {\n",
              "      background-color: #434B5C;\n",
              "      box-shadow: 0px 1px 3px 1px rgba(0, 0, 0, 0.15);\n",
              "      filter: drop-shadow(0px 1px 2px rgba(0, 0, 0, 0.3));\n",
              "      fill: #FFFFFF;\n",
              "    }\n",
              "  </style>\n",
              "\n",
              "      <script>\n",
              "        const buttonEl =\n",
              "          document.querySelector('#df-f935b253-a1e6-44c2-898e-bef4254e825e button.colab-df-convert');\n",
              "        buttonEl.style.display =\n",
              "          google.colab.kernel.accessAllowed ? 'block' : 'none';\n",
              "\n",
              "        async function convertToInteractive(key) {\n",
              "          const element = document.querySelector('#df-f935b253-a1e6-44c2-898e-bef4254e825e');\n",
              "          const dataTable =\n",
              "            await google.colab.kernel.invokeFunction('convertToInteractive',\n",
              "                                                     [key], {});\n",
              "          if (!dataTable) return;\n",
              "\n",
              "          const docLinkHtml = 'Like what you see? Visit the ' +\n",
              "            '<a target=\"_blank\" href=https://colab.research.google.com/notebooks/data_table.ipynb>data table notebook</a>'\n",
              "            + ' to learn more about interactive tables.';\n",
              "          element.innerHTML = '';\n",
              "          dataTable['output_type'] = 'display_data';\n",
              "          await google.colab.output.renderOutput(dataTable, element);\n",
              "          const docLink = document.createElement('div');\n",
              "          docLink.innerHTML = docLinkHtml;\n",
              "          element.appendChild(docLink);\n",
              "        }\n",
              "      </script>\n",
              "    </div>\n",
              "  </div>\n",
              "  "
            ]
          },
          "metadata": {},
          "execution_count": 69
        }
      ]
    },
    {
      "cell_type": "markdown",
      "source": [
        "**Bước 3:** Phân chia train test với tỉ lệ 7/3\n",
        "\n",
        "Gọi giá trị đích là Y và các giá trị dự báo là X"
      ],
      "metadata": {
        "id": "j428hKGKVQ-4"
      }
    },
    {
      "cell_type": "markdown",
      "source": [
        "Y1 = Gía nhà ở Boston\n",
        "\n",
        "X1 = tất cả "
      ],
      "metadata": {
        "id": "_XD5QNelVRIg"
      }
    },
    {
      "cell_type": "code",
      "source": [
        "X1 = bos.drop('PRICE', axis = 1)\n",
        "Y1 = bos['PRICE']"
      ],
      "metadata": {
        "id": "REZghv_YVVtA"
      },
      "execution_count": null,
      "outputs": []
    },
    {
      "cell_type": "markdown",
      "source": [
        "Sử dụng thư viện hỗ trợ sklearn để test"
      ],
      "metadata": {
        "id": "pwKyair6VWTh"
      }
    },
    {
      "cell_type": "code",
      "source": [
        "from sklearn.model_selection import train_test_split\n",
        "X1_train, X1_test, Y1_train, Y1_test = train_test_split(X1, Y1, test_size=0.3, random_state=0)"
      ],
      "metadata": {
        "id": "LhgZfzHLVYIR"
      },
      "execution_count": null,
      "outputs": []
    },
    {
      "cell_type": "code",
      "source": [
        "print(\"X_train:\\n\",X1_train)"
      ],
      "metadata": {
        "colab": {
          "base_uri": "https://localhost:8080/"
        },
        "id": "ZqwA27cLVdbY",
        "outputId": "616f91fc-b8c9-40e4-fd9b-4358ff5ceaf6"
      },
      "execution_count": null,
      "outputs": [
        {
          "output_type": "stream",
          "name": "stdout",
          "text": [
            "X_train:\n",
            "         CRIM    ZN  INDUS  CHAS    NOX     RM    AGE     DIS  RAD    TAX  \\\n",
            "141  1.62864   0.0  21.89   0.0  0.624  5.019  100.0  1.4394  4.0  437.0   \n",
            "272  0.11460  20.0   6.96   0.0  0.464  6.538   58.7  3.9175  3.0  223.0   \n",
            "135  0.55778   0.0  21.89   0.0  0.624  6.335   98.2  2.1107  4.0  437.0   \n",
            "298  0.06466  70.0   2.24   0.0  0.400  6.345   20.1  7.8278  5.0  358.0   \n",
            "122  0.09299   0.0  25.65   0.0  0.581  5.961   92.9  2.0869  2.0  188.0   \n",
            "..       ...   ...    ...   ...    ...    ...    ...     ...  ...    ...   \n",
            "323  0.28392   0.0   7.38   0.0  0.493  5.708   74.3  4.7211  5.0  287.0   \n",
            "192  0.08664  45.0   3.44   0.0  0.437  7.178   26.3  6.4798  5.0  398.0   \n",
            "117  0.15098   0.0  10.01   0.0  0.547  6.021   82.6  2.7474  6.0  432.0   \n",
            "47   0.22927   0.0   6.91   0.0  0.448  6.030   85.5  5.6894  3.0  233.0   \n",
            "172  0.13914   0.0   4.05   0.0  0.510  5.572   88.5  2.5961  5.0  296.0   \n",
            "\n",
            "     PTRATIO       B  LSTAT  \n",
            "141     21.2  396.90  34.41  \n",
            "272     18.6  394.96   7.73  \n",
            "135     21.2  394.67  16.96  \n",
            "298     14.8  368.24   4.97  \n",
            "122     19.1  378.09  17.93  \n",
            "..       ...     ...    ...  \n",
            "323     19.6  391.13  11.74  \n",
            "192     15.2  390.49   2.87  \n",
            "117     17.8  394.51  10.30  \n",
            "47      17.9  392.74  18.80  \n",
            "172     16.6  396.90  14.69  \n",
            "\n",
            "[354 rows x 13 columns]\n"
          ]
        }
      ]
    },
    {
      "cell_type": "code",
      "source": [
        "print(\"X_test:\\n\",X1_test)"
      ],
      "metadata": {
        "colab": {
          "base_uri": "https://localhost:8080/"
        },
        "id": "zAvvBA1MVfsQ",
        "outputId": "d8bae7f8-f404-4423-8e6b-5907732a48de"
      },
      "execution_count": null,
      "outputs": [
        {
          "output_type": "stream",
          "name": "stdout",
          "text": [
            "X_test:\n",
            "          CRIM   ZN  INDUS  CHAS    NOX     RM    AGE     DIS   RAD    TAX  \\\n",
            "329   0.06724  0.0   3.24   0.0  0.460  6.333   17.2  5.2146   4.0  430.0   \n",
            "371   9.23230  0.0  18.10   0.0  0.631  6.216  100.0  1.1691  24.0  666.0   \n",
            "219   0.11425  0.0  13.89   1.0  0.550  6.373   92.4  3.3633   5.0  276.0   \n",
            "403  24.80170  0.0  18.10   0.0  0.693  5.349   96.0  1.7028  24.0  666.0   \n",
            "78    0.05646  0.0  12.83   0.0  0.437  6.232   53.7  5.0141   5.0  398.0   \n",
            "..        ...  ...    ...   ...    ...    ...    ...     ...   ...    ...   \n",
            "4     0.06905  0.0   2.18   0.0  0.458  7.147   54.2  6.0622   3.0  222.0   \n",
            "428   7.36711  0.0  18.10   0.0  0.679  6.193   78.1  1.9356  24.0  666.0   \n",
            "385  16.81180  0.0  18.10   0.0  0.700  5.277   98.1  1.4261  24.0  666.0   \n",
            "308   0.49298  0.0   9.90   0.0  0.544  6.635   82.5  3.3175   4.0  304.0   \n",
            "5     0.02985  0.0   2.18   0.0  0.458  6.430   58.7  6.0622   3.0  222.0   \n",
            "\n",
            "     PTRATIO       B  LSTAT  \n",
            "329     16.9  375.21   7.34  \n",
            "371     20.2  366.15   9.53  \n",
            "219     16.4  393.74  10.50  \n",
            "403     20.2  396.90  19.77  \n",
            "78      18.7  386.40  12.34  \n",
            "..       ...     ...    ...  \n",
            "4       18.7  396.90   5.33  \n",
            "428     20.2   96.73  21.52  \n",
            "385     20.2  396.90  30.81  \n",
            "308     18.4  396.90   4.54  \n",
            "5       18.7  394.12   5.21  \n",
            "\n",
            "[152 rows x 13 columns]\n"
          ]
        }
      ]
    },
    {
      "cell_type": "code",
      "source": [
        "print(\"Y_train:\\n\",Y1_train)"
      ],
      "metadata": {
        "colab": {
          "base_uri": "https://localhost:8080/"
        },
        "id": "Yx5LB0dUVhfg",
        "outputId": "2fd483aa-1e51-4e9c-f3cd-3c7e7b1d3147"
      },
      "execution_count": null,
      "outputs": [
        {
          "output_type": "stream",
          "name": "stdout",
          "text": [
            "Y_train:\n",
            " 141    14.4\n",
            "272    24.4\n",
            "135    18.1\n",
            "298    22.5\n",
            "122    20.5\n",
            "       ... \n",
            "323    18.5\n",
            "192    36.4\n",
            "117    19.2\n",
            "47     16.6\n",
            "172    23.1\n",
            "Name: PRICE, Length: 354, dtype: float64\n"
          ]
        }
      ]
    },
    {
      "cell_type": "code",
      "source": [
        "print(\"Y_test:\\n\",Y1_test)"
      ],
      "metadata": {
        "colab": {
          "base_uri": "https://localhost:8080/"
        },
        "id": "cTu0mhznVjRA",
        "outputId": "f7518225-864a-4396-b50f-26596ea9f6c0"
      },
      "execution_count": null,
      "outputs": [
        {
          "output_type": "stream",
          "name": "stdout",
          "text": [
            "Y_test:\n",
            " 329    22.6\n",
            "371    50.0\n",
            "219    23.0\n",
            "403     8.3\n",
            "78     21.2\n",
            "       ... \n",
            "4      36.2\n",
            "428    11.0\n",
            "385     7.2\n",
            "308    22.8\n",
            "5      28.7\n",
            "Name: PRICE, Length: 152, dtype: float64\n"
          ]
        }
      ]
    },
    {
      "cell_type": "markdown",
      "source": [
        "**Bước 4:** Huấn luyện mô hình với train set"
      ],
      "metadata": {
        "id": "oAs0zSWRVaeQ"
      }
    },
    {
      "cell_type": "code",
      "source": [
        "from sklearn.linear_model import LinearRegression\n",
        "\n",
        "lm = LinearRegression()\n",
        "lm.fit(X1_train, Y1_train)\n",
        "\n",
        "Y_pred = lm.predict(X1_test)\n",
        "\n",
        "plt.scatter(Y1_test, Y_pred)\n",
        "plt.xlabel(\"Gía: $Y_i$\")\n",
        "plt.ylabel(\"giá dự đoán: $\\hat{Y}_i$\")\n",
        "plt.title(\"Gía so với giá dự đoán: $Y_i$ vs $\\hat{Y}_i$\")"
      ],
      "metadata": {
        "colab": {
          "base_uri": "https://localhost:8080/",
          "height": 368
        },
        "id": "a-I24soGVn9B",
        "outputId": "c0c1d466-a523-4783-a135-74bf6c378f6a"
      },
      "execution_count": null,
      "outputs": [
        {
          "output_type": "execute_result",
          "data": {
            "text/plain": [
              "Text(0.5, 1.0, 'Gía so với giá dự đoán: $Y_i$ vs $\\\\hat{Y}_i$')"
            ]
          },
          "metadata": {},
          "execution_count": 76
        },
        {
          "output_type": "display_data",
          "data": {
            "text/plain": [
              "<Figure size 432x288 with 1 Axes>"
            ],
            "image/png": "[encoded data removed]"
          },
          "metadata": {}
        }
      ]
    },
    {
      "cell_type": "markdown",
      "source": [
        "**Bước 5:** Kiểm thử mô hình với test set"
      ],
      "metadata": {
        "id": "ztM7jm8EVsHA"
      }
    },
    {
      "cell_type": "markdown",
      "source": [
        "Sử dụng MSE (Mean Squared Error) để thử mô hình"
      ],
      "metadata": {
        "id": "xwShtrHiVsdA"
      }
    },
    {
      "cell_type": "code",
      "source": [
        "mse = sklearn.metrics.mean_squared_error(Y1_test, Y_pred)\n",
        "mse"
      ],
      "metadata": {
        "colab": {
          "base_uri": "https://localhost:8080/"
        },
        "id": "xBnsj6hIVu26",
        "outputId": "ecc14254-5ba8-40c1-a420-f5a2a6c1a580"
      },
      "execution_count": null,
      "outputs": [
        {
          "output_type": "execute_result",
          "data": {
            "text/plain": [
              "27.195965766883308"
            ]
          },
          "metadata": {},
          "execution_count": 77
        }
      ]
    },
    {
      "cell_type": "markdown",
      "source": [
        "#### Bài 9: Bạn hãy lựa chọn 1tập dữ liệu phù hợp với bài toán hồi quy logistic và xây dựng mô hình hồi quy logistic theo từng bước (kèm với mô tả của từng bước)\n",
        "- Bước 1: Tải dữ liệu\n",
        "- Bước 2: Mô tả dữ liệu\n",
        "- Bước 3: Phân chia train – test (tỉ lệ 70% -30%)\n",
        "- Bước 4: Huấn luyện mô hình với train set (10-fold cross validation)\n",
        "- Bước 5: Kiểm thử mô hình với test set\n",
        "- Bước 6: Trình bày kết quả và nhận xét"
      ],
      "metadata": {
        "id": "JSniIQRwVw35"
      }
    },
    {
      "cell_type": "code",
      "source": [
        "from sklearn.linear_model import LogisticRegression\n",
        "logisticRegr = LogisticRegression()\n",
        "logisticRegr.fit(X_train, y_train)\n",
        "y_pred = logisticRegr.predict(X_test)\n",
        "plt.scatter(y_test, y_pred)\n",
        "plt.xlabel(\"Kết quả thực tế\")\n",
        "plt.ylabel(\"Kết quả dự đoán\")\n",
        "plt.show()\n",
        "print(\"Accuracy:\",logisticRegr.score(X_test, y_test))"
      ],
      "metadata": {
        "colab": {
          "base_uri": "https://localhost:8080/",
          "height": 331
        },
        "id": "KvEj4-HDVz6h",
        "outputId": "a252f59c-d16a-4c02-8b1f-b097f526f920"
      },
      "execution_count": null,
      "outputs": [
        {
          "output_type": "display_data",
          "data": {
            "text/plain": [
              "<Figure size 432x288 with 1 Axes>"
            ],
            "image/png": "[encoded data removed]"
          },
          "metadata": {}
        },
        {
          "output_type": "stream",
          "name": "stdout",
          "text": [
            "Accuracy: 0.9777777777777777\n"
          ]
        }
      ]
    },
    {
      "cell_type": "markdown",
      "source": [
        "Bài 8: Bạn hãy lựa chọn 1tập dữ liệu phù hợp với bài toán hồi quy phi tuyến và xây dựng mô\n",
        "hình hồi quy phi tuyến theo từng bước (kèm với mô tả của từng bước)\n",
        "- Bước 1: Tải dữ liệu\n",
        "- Bước 2: Mô tả dữ liệu\n",
        "- Bước 3: Phân chia train – test (tỉ lệ 70% -30%)\n",
        "- Bước 4: Huấn luyện mô hình với train set (10-fold cross validation)\n",
        "- Bước 5: Kiểm thử mô hình với test set\n",
        "- Bước 6: Trình bày kết quả và nhận xét"
      ],
      "metadata": {
        "id": "VwpzuRYL1Q5N"
      }
    },
    {
      "cell_type": "code",
      "source": [
        "df = pd.read_csv(\"https://s3-api.us-geo.objectstorage.softlayer.net/cf-courses-data/CognitiveClass/ML0101ENv3/labs/china_gdp.csv\")\n",
        "df8 = pd.DataFrame(df)\n",
        "df8.sample(5)"
      ],
      "metadata": {
        "colab": {
          "base_uri": "https://localhost:8080/",
          "height": 206
        },
        "id": "xZ0SoBT81jjU",
        "outputId": "bf2649fc-ae10-4a5f-ac79-906a9f757b68"
      },
      "execution_count": null,
      "outputs": [
        {
          "output_type": "execute_result",
          "data": {
            "text/plain": [
              "    Year         Value\n",
              "6   1966  7.587943e+10\n",
              "27  1987  2.713498e+11\n",
              "19  1979  1.768565e+11\n",
              "45  2005  2.268599e+12\n",
              "26  1986  2.988058e+11"
            ],
            "text/html": [
              "\n",
              "  <div id=\"df-4ac5bd66-f349-4053-8f41-020044593f67\">\n",
              "    <div class=\"colab-df-container\">\n",
              "      <div>\n",
              "<style scoped>\n",
              "    .dataframe tbody tr th:only-of-type {\n",
              "        vertical-align: middle;\n",
              "    }\n",
              "\n",
              "    .dataframe tbody tr th {\n",
              "        vertical-align: top;\n",
              "    }\n",
              "\n",
              "    .dataframe thead th {\n",
              "        text-align: right;\n",
              "    }\n",
              "</style>\n",
              "<table border=\"1\" class=\"dataframe\">\n",
              "  <thead>\n",
              "    <tr style=\"text-align: right;\">\n",
              "      <th></th>\n",
              "      <th>Year</th>\n",
              "      <th>Value</th>\n",
              "    </tr>\n",
              "  </thead>\n",
              "  <tbody>\n",
              "    <tr>\n",
              "      <th>6</th>\n",
              "      <td>1966</td>\n",
              "      <td>7.587943e+10</td>\n",
              "    </tr>\n",
              "    <tr>\n",
              "      <th>27</th>\n",
              "      <td>1987</td>\n",
              "      <td>2.713498e+11</td>\n",
              "    </tr>\n",
              "    <tr>\n",
              "      <th>19</th>\n",
              "      <td>1979</td>\n",
              "      <td>1.768565e+11</td>\n",
              "    </tr>\n",
              "    <tr>\n",
              "      <th>45</th>\n",
              "      <td>2005</td>\n",
              "      <td>2.268599e+12</td>\n",
              "    </tr>\n",
              "    <tr>\n",
              "      <th>26</th>\n",
              "      <td>1986</td>\n",
              "      <td>2.988058e+11</td>\n",
              "    </tr>\n",
              "  </tbody>\n",
              "</table>\n",
              "</div>\n",
              "      <button class=\"colab-df-convert\" onclick=\"convertToInteractive('df-4ac5bd66-f349-4053-8f41-020044593f67')\"\n",
              "              title=\"Convert this dataframe to an interactive table.\"\n",
              "              style=\"display:none;\">\n",
              "        \n",
              "  <svg xmlns=\"http://www.w3.org/2000/svg\" height=\"24px\"viewBox=\"0 0 24 24\"\n",
              "       width=\"24px\">\n",
              "    <path d=\"M0 0h24v24H0V0z\" fill=\"none\"/>\n",
              "    <path d=\"M18.56 5.44l.94 2.06.94-2.06 2.06-.94-2.06-.94-.94-2.06-.94 2.06-2.06.94zm-11 1L8.5 8.5l.94-2.06 2.06-.94-2.06-.94L8.5 2.5l-.94 2.06-2.06.94zm10 10l.94 2.06.94-2.06 2.06-.94-2.06-.94-.94-2.06-.94 2.06-2.06.94z\"/><path d=\"M17.41 7.96l-1.37-1.37c-.4-.4-.92-.59-1.43-.59-.52 0-1.04.2-1.43.59L10.3 9.45l-7.72 7.72c-.78.78-.78 2.05 0 2.83L4 21.41c.39.39.9.59 1.41.59.51 0 1.02-.2 1.41-.59l7.78-7.78 2.81-2.81c.8-.78.8-2.07 0-2.86zM5.41 20L4 18.59l7.72-7.72 1.47 1.35L5.41 20z\"/>\n",
              "  </svg>\n",
              "      </button>\n",
              "      \n",
              "  <style>\n",
              "    .colab-df-container {\n",
              "      display:flex;\n",
              "      flex-wrap:wrap;\n",
              "      gap: 12px;\n",
              "    }\n",
              "\n",
              "    .colab-df-convert {\n",
              "      background-color: #E8F0FE;\n",
              "      border: none;\n",
              "      border-radius: 50%;\n",
              "      cursor: pointer;\n",
              "      display: none;\n",
              "      fill: #1967D2;\n",
              "      height: 32px;\n",
              "      padding: 0 0 0 0;\n",
              "      width: 32px;\n",
              "    }\n",
              "\n",
              "    .colab-df-convert:hover {\n",
              "      background-color: #E2EBFA;\n",
              "      box-shadow: 0px 1px 2px rgba(60, 64, 67, 0.3), 0px 1px 3px 1px rgba(60, 64, 67, 0.15);\n",
              "      fill: #174EA6;\n",
              "    }\n",
              "\n",
              "    [theme=dark] .colab-df-convert {\n",
              "      background-color: #3B4455;\n",
              "      fill: #D2E3FC;\n",
              "    }\n",
              "\n",
              "    [theme=dark] .colab-df-convert:hover {\n",
              "      background-color: #434B5C;\n",
              "      box-shadow: 0px 1px 3px 1px rgba(0, 0, 0, 0.15);\n",
              "      filter: drop-shadow(0px 1px 2px rgba(0, 0, 0, 0.3));\n",
              "      fill: #FFFFFF;\n",
              "    }\n",
              "  </style>\n",
              "\n",
              "      <script>\n",
              "        const buttonEl =\n",
              "          document.querySelector('#df-4ac5bd66-f349-4053-8f41-020044593f67 button.colab-df-convert');\n",
              "        buttonEl.style.display =\n",
              "          google.colab.kernel.accessAllowed ? 'block' : 'none';\n",
              "\n",
              "        async function convertToInteractive(key) {\n",
              "          const element = document.querySelector('#df-4ac5bd66-f349-4053-8f41-020044593f67');\n",
              "          const dataTable =\n",
              "            await google.colab.kernel.invokeFunction('convertToInteractive',\n",
              "                                                     [key], {});\n",
              "          if (!dataTable) return;\n",
              "\n",
              "          const docLinkHtml = 'Like what you see? Visit the ' +\n",
              "            '<a target=\"_blank\" href=https://colab.research.google.com/notebooks/data_table.ipynb>data table notebook</a>'\n",
              "            + ' to learn more about interactive tables.';\n",
              "          element.innerHTML = '';\n",
              "          dataTable['output_type'] = 'display_data';\n",
              "          await google.colab.output.renderOutput(dataTable, element);\n",
              "          const docLink = document.createElement('div');\n",
              "          docLink.innerHTML = docLinkHtml;\n",
              "          element.appendChild(docLink);\n",
              "        }\n",
              "      </script>\n",
              "    </div>\n",
              "  </div>\n",
              "  "
            ]
          },
          "metadata": {},
          "execution_count": 81
        }
      ]
    },
    {
      "cell_type": "code",
      "source": [
        "df8.describe()"
      ],
      "metadata": {
        "colab": {
          "base_uri": "https://localhost:8080/",
          "height": 300
        },
        "id": "e8jLiU9J2A1d",
        "outputId": "bf1ace9b-ddf1-4c73-f894-41fc8092d40c"
      },
      "execution_count": null,
      "outputs": [
        {
          "output_type": "execute_result",
          "data": {
            "text/plain": [
              "             Year         Value\n",
              "count    55.00000  5.500000e+01\n",
              "mean   1987.00000  1.437042e+12\n",
              "std      16.02082  2.500085e+12\n",
              "min    1960.00000  4.668518e+10\n",
              "25%    1973.50000  1.395123e+11\n",
              "50%    1987.00000  3.074796e+11\n",
              "75%    2000.50000  1.268748e+12\n",
              "max    2014.00000  1.035483e+13"
            ],
            "text/html": [
              "\n",
              "  <div id=\"df-f0844bb2-5e5e-4841-b736-af096aebde6d\">\n",
              "    <div class=\"colab-df-container\">\n",
              "      <div>\n",
              "<style scoped>\n",
              "    .dataframe tbody tr th:only-of-type {\n",
              "        vertical-align: middle;\n",
              "    }\n",
              "\n",
              "    .dataframe tbody tr th {\n",
              "        vertical-align: top;\n",
              "    }\n",
              "\n",
              "    .dataframe thead th {\n",
              "        text-align: right;\n",
              "    }\n",
              "</style>\n",
              "<table border=\"1\" class=\"dataframe\">\n",
              "  <thead>\n",
              "    <tr style=\"text-align: right;\">\n",
              "      <th></th>\n",
              "      <th>Year</th>\n",
              "      <th>Value</th>\n",
              "    </tr>\n",
              "  </thead>\n",
              "  <tbody>\n",
              "    <tr>\n",
              "      <th>count</th>\n",
              "      <td>55.00000</td>\n",
              "      <td>5.500000e+01</td>\n",
              "    </tr>\n",
              "    <tr>\n",
              "      <th>mean</th>\n",
              "      <td>1987.00000</td>\n",
              "      <td>1.437042e+12</td>\n",
              "    </tr>\n",
              "    <tr>\n",
              "      <th>std</th>\n",
              "      <td>16.02082</td>\n",
              "      <td>2.500085e+12</td>\n",
              "    </tr>\n",
              "    <tr>\n",
              "      <th>min</th>\n",
              "      <td>1960.00000</td>\n",
              "      <td>4.668518e+10</td>\n",
              "    </tr>\n",
              "    <tr>\n",
              "      <th>25%</th>\n",
              "      <td>1973.50000</td>\n",
              "      <td>1.395123e+11</td>\n",
              "    </tr>\n",
              "    <tr>\n",
              "      <th>50%</th>\n",
              "      <td>1987.00000</td>\n",
              "      <td>3.074796e+11</td>\n",
              "    </tr>\n",
              "    <tr>\n",
              "      <th>75%</th>\n",
              "      <td>2000.50000</td>\n",
              "      <td>1.268748e+12</td>\n",
              "    </tr>\n",
              "    <tr>\n",
              "      <th>max</th>\n",
              "      <td>2014.00000</td>\n",
              "      <td>1.035483e+13</td>\n",
              "    </tr>\n",
              "  </tbody>\n",
              "</table>\n",
              "</div>\n",
              "      <button class=\"colab-df-convert\" onclick=\"convertToInteractive('df-f0844bb2-5e5e-4841-b736-af096aebde6d')\"\n",
              "              title=\"Convert this dataframe to an interactive table.\"\n",
              "              style=\"display:none;\">\n",
              "        \n",
              "  <svg xmlns=\"http://www.w3.org/2000/svg\" height=\"24px\"viewBox=\"0 0 24 24\"\n",
              "       width=\"24px\">\n",
              "    <path d=\"M0 0h24v24H0V0z\" fill=\"none\"/>\n",
              "    <path d=\"M18.56 5.44l.94 2.06.94-2.06 2.06-.94-2.06-.94-.94-2.06-.94 2.06-2.06.94zm-11 1L8.5 8.5l.94-2.06 2.06-.94-2.06-.94L8.5 2.5l-.94 2.06-2.06.94zm10 10l.94 2.06.94-2.06 2.06-.94-2.06-.94-.94-2.06-.94 2.06-2.06.94z\"/><path d=\"M17.41 7.96l-1.37-1.37c-.4-.4-.92-.59-1.43-.59-.52 0-1.04.2-1.43.59L10.3 9.45l-7.72 7.72c-.78.78-.78 2.05 0 2.83L4 21.41c.39.39.9.59 1.41.59.51 0 1.02-.2 1.41-.59l7.78-7.78 2.81-2.81c.8-.78.8-2.07 0-2.86zM5.41 20L4 18.59l7.72-7.72 1.47 1.35L5.41 20z\"/>\n",
              "  </svg>\n",
              "      </button>\n",
              "      \n",
              "  <style>\n",
              "    .colab-df-container {\n",
              "      display:flex;\n",
              "      flex-wrap:wrap;\n",
              "      gap: 12px;\n",
              "    }\n",
              "\n",
              "    .colab-df-convert {\n",
              "      background-color: #E8F0FE;\n",
              "      border: none;\n",
              "      border-radius: 50%;\n",
              "      cursor: pointer;\n",
              "      display: none;\n",
              "      fill: #1967D2;\n",
              "      height: 32px;\n",
              "      padding: 0 0 0 0;\n",
              "      width: 32px;\n",
              "    }\n",
              "\n",
              "    .colab-df-convert:hover {\n",
              "      background-color: #E2EBFA;\n",
              "      box-shadow: 0px 1px 2px rgba(60, 64, 67, 0.3), 0px 1px 3px 1px rgba(60, 64, 67, 0.15);\n",
              "      fill: #174EA6;\n",
              "    }\n",
              "\n",
              "    [theme=dark] .colab-df-convert {\n",
              "      background-color: #3B4455;\n",
              "      fill: #D2E3FC;\n",
              "    }\n",
              "\n",
              "    [theme=dark] .colab-df-convert:hover {\n",
              "      background-color: #434B5C;\n",
              "      box-shadow: 0px 1px 3px 1px rgba(0, 0, 0, 0.15);\n",
              "      filter: drop-shadow(0px 1px 2px rgba(0, 0, 0, 0.3));\n",
              "      fill: #FFFFFF;\n",
              "    }\n",
              "  </style>\n",
              "\n",
              "      <script>\n",
              "        const buttonEl =\n",
              "          document.querySelector('#df-f0844bb2-5e5e-4841-b736-af096aebde6d button.colab-df-convert');\n",
              "        buttonEl.style.display =\n",
              "          google.colab.kernel.accessAllowed ? 'block' : 'none';\n",
              "\n",
              "        async function convertToInteractive(key) {\n",
              "          const element = document.querySelector('#df-f0844bb2-5e5e-4841-b736-af096aebde6d');\n",
              "          const dataTable =\n",
              "            await google.colab.kernel.invokeFunction('convertToInteractive',\n",
              "                                                     [key], {});\n",
              "          if (!dataTable) return;\n",
              "\n",
              "          const docLinkHtml = 'Like what you see? Visit the ' +\n",
              "            '<a target=\"_blank\" href=https://colab.research.google.com/notebooks/data_table.ipynb>data table notebook</a>'\n",
              "            + ' to learn more about interactive tables.';\n",
              "          element.innerHTML = '';\n",
              "          dataTable['output_type'] = 'display_data';\n",
              "          await google.colab.output.renderOutput(dataTable, element);\n",
              "          const docLink = document.createElement('div');\n",
              "          docLink.innerHTML = docLinkHtml;\n",
              "          element.appendChild(docLink);\n",
              "        }\n",
              "      </script>\n",
              "    </div>\n",
              "  </div>\n",
              "  "
            ]
          },
          "metadata": {},
          "execution_count": 82
        }
      ]
    },
    {
      "cell_type": "code",
      "source": [
        "scatter_matrix(df8)\n",
        "plt.show()"
      ],
      "metadata": {
        "colab": {
          "base_uri": "https://localhost:8080/",
          "height": 312
        },
        "id": "o00pgUVL2MSM",
        "outputId": "0b0c5e79-a5ca-4037-9674-523f49eaee7e"
      },
      "execution_count": null,
      "outputs": [
        {
          "output_type": "display_data",
          "data": {
            "text/plain": [
              "<Figure size 432x288 with 4 Axes>"
            ],
            "image/png": "[encoded data removed]"
          },
          "metadata": {}
        }
      ]
    },
    {
      "cell_type": "code",
      "source": [
        "df8.Value.describe()\n",
        "data8_x = df8.Year.values\n",
        "data8_y = df8.Value.values\n",
        "# data8_x=data8_x/max(data8_x)\n",
        "# data8_y=data8_y/max(data8_y)\n",
        "plt.scatter(data8_x, data8_y)"
      ],
      "metadata": {
        "colab": {
          "base_uri": "https://localhost:8080/",
          "height": 320
        },
        "id": "FhndrYLW2n-_",
        "outputId": "d50d899e-e38e-4fd3-ea1f-2666a22d03df"
      },
      "execution_count": null,
      "outputs": [
        {
          "output_type": "execute_result",
          "data": {
            "text/plain": [
              "<matplotlib.collections.PathCollection at 0x7f45f512b850>"
            ]
          },
          "metadata": {},
          "execution_count": 86
        },
        {
          "output_type": "display_data",
          "data": {
            "text/plain": [
              "<Figure size 432x288 with 1 Axes>"
            ],
            "image/png": "[encoded data removed]"
          },
          "metadata": {}
        }
      ]
    },
    {
      "cell_type": "code",
      "source": [
        "dataset8 = np.concatenate((data8_x.reshape(-1, 1), data8_y.reshape(-1, 1)), axis=1)"
      ],
      "metadata": {
        "id": "EKs25tDC4MbI"
      },
      "execution_count": null,
      "outputs": []
    },
    {
      "cell_type": "code",
      "source": [
        "np.random.shuffle(dataset8)\n",
        "sfdt8 = np.array_split(dataset8, 10)"
      ],
      "metadata": {
        "id": "OpzrPuLh4YTk"
      },
      "execution_count": null,
      "outputs": []
    },
    {
      "cell_type": "code",
      "source": [
        "train8 = np.concatenate(sfdt8[:7])\n",
        "test8 = np.concatenate(sfdt8[7:])\n",
        "x_train_8 = train8[:, :1]\n",
        "y_train_8 = train8[:, 1]\n",
        "x_test_8 = test8[:, :1]\n",
        "y_test_8 = test8[:, 1]"
      ],
      "metadata": {
        "id": "TqhMs4y74YYn"
      },
      "execution_count": null,
      "outputs": []
    },
    {
      "cell_type": "code",
      "source": [
        "x_train_8 = x_train_8/max(x_train_8)\n",
        "y_train_8 = y_train_8/max(y_train_8)\n",
        "x_test_8 = x_test_8/max(x_test_8)\n",
        "y_test_8 = y_test_8/max(y_test_8)"
      ],
      "metadata": {
        "id": "ZnqOcq0L4Ycm"
      },
      "execution_count": null,
      "outputs": []
    },
    {
      "cell_type": "code",
      "source": [
        "def sigmoid(x, Beta_1, Beta_2):\n",
        "     y = 1 / (1 + np.exp(-Beta_1*(x-Beta_2)))\n",
        "     return y"
      ],
      "metadata": {
        "id": "psivh9Hl4fPz"
      },
      "execution_count": null,
      "outputs": []
    },
    {
      "cell_type": "code",
      "source": [
        "from scipy.optimize import curve_fit\n",
        "popt, pcov = curve_fit(sigmoid, x_train_8.reshape(-1), y_train_8)\n",
        "popt"
      ],
      "metadata": {
        "colab": {
          "base_uri": "https://localhost:8080/"
        },
        "id": "JoqJyP8X4gy9",
        "outputId": "b6746b08-e5ae-48b4-a9b0-aa887622721d"
      },
      "execution_count": null,
      "outputs": [
        {
          "output_type": "execute_result",
          "data": {
            "text/plain": [
              "array([735.49348118,   0.99723853])"
            ]
          },
          "metadata": {},
          "execution_count": 92
        }
      ]
    },
    {
      "cell_type": "code",
      "source": [
        "y_pred_8 = sigmoid(x_test_8, *popt)\n",
        "np.sqrt(mean_squared_error(y_test_8, y_pred_8))"
      ],
      "metadata": {
        "colab": {
          "base_uri": "https://localhost:8080/"
        },
        "id": "Uw0zygC74lPz",
        "outputId": "a58bdeaf-d499-4b19-c6ef-30cbc8af2da3"
      },
      "execution_count": null,
      "outputs": [
        {
          "output_type": "execute_result",
          "data": {
            "text/plain": [
              "0.10379584510307216"
            ]
          },
          "metadata": {},
          "execution_count": 93
        }
      ]
    }
  ]
}